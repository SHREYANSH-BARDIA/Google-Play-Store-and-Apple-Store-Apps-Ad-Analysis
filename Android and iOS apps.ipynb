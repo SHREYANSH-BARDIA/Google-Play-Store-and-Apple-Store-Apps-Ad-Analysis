{
 "cells": [
  {
   "cell_type": "code",
   "execution_count": 2,
   "metadata": {},
   "outputs": [
    {
     "data": {
      "text/plain": [
       "20"
      ]
     },
     "execution_count": 2,
     "metadata": {},
     "output_type": "execute_result"
    }
   ],
   "source": [
    "import gc\n",
    "gc.collect()"
   ]
  },
  {
   "cell_type": "markdown",
   "metadata": {},
   "source": [
    "# Analysis of Android and iOS Applications"
   ]
  },
  {
   "cell_type": "markdown",
   "metadata": {},
   "source": [
    "This project is an analysis of the popularity of the apps that are available on the google play store and Apple store for android and iOS devices respectively. The scope of the project is limited to the applications that are free and have english names"
   ]
  },
  {
   "cell_type": "code",
   "execution_count": 3,
   "metadata": {},
   "outputs": [],
   "source": [
    "import pandas as pd\n",
    "import numpy as np"
   ]
  },
  {
   "cell_type": "code",
   "execution_count": 4,
   "metadata": {},
   "outputs": [],
   "source": [
    "# Reading the data\n",
    "gg = pd.read_csv('D:/PERSONAL/DATASETS/googleplaystore.csv')\n"
   ]
  },
  {
   "cell_type": "code",
   "execution_count": 5,
   "metadata": {},
   "outputs": [],
   "source": [
    "ios = pd.read_csv('D:/PERSONAL/DATASETS/AppleStore.csv')"
   ]
  },
  {
   "cell_type": "markdown",
   "metadata": {},
   "source": [
    "Now that the dataset is loaded, let's have a look at the data."
   ]
  },
  {
   "cell_type": "code",
   "execution_count": 6,
   "metadata": {},
   "outputs": [
    {
     "data": {
      "text/html": [
       "<div>\n",
       "<style scoped>\n",
       "    .dataframe tbody tr th:only-of-type {\n",
       "        vertical-align: middle;\n",
       "    }\n",
       "\n",
       "    .dataframe tbody tr th {\n",
       "        vertical-align: top;\n",
       "    }\n",
       "\n",
       "    .dataframe thead th {\n",
       "        text-align: right;\n",
       "    }\n",
       "</style>\n",
       "<table border=\"1\" class=\"dataframe\">\n",
       "  <thead>\n",
       "    <tr style=\"text-align: right;\">\n",
       "      <th></th>\n",
       "      <th>App</th>\n",
       "      <th>Category</th>\n",
       "      <th>Rating</th>\n",
       "      <th>Reviews</th>\n",
       "      <th>Size</th>\n",
       "      <th>Installs</th>\n",
       "      <th>Type</th>\n",
       "      <th>Price</th>\n",
       "      <th>Content Rating</th>\n",
       "      <th>Genres</th>\n",
       "      <th>Last Updated</th>\n",
       "      <th>Current Ver</th>\n",
       "      <th>Android Ver</th>\n",
       "    </tr>\n",
       "  </thead>\n",
       "  <tbody>\n",
       "    <tr>\n",
       "      <td>0</td>\n",
       "      <td>Photo Editor &amp; Candy Camera &amp; Grid &amp; ScrapBook</td>\n",
       "      <td>ART_AND_DESIGN</td>\n",
       "      <td>4.1</td>\n",
       "      <td>159</td>\n",
       "      <td>19M</td>\n",
       "      <td>10,000+</td>\n",
       "      <td>Free</td>\n",
       "      <td>0</td>\n",
       "      <td>Everyone</td>\n",
       "      <td>Art &amp; Design</td>\n",
       "      <td>January 7, 2018</td>\n",
       "      <td>1.0.0</td>\n",
       "      <td>4.0.3 and up</td>\n",
       "    </tr>\n",
       "    <tr>\n",
       "      <td>1</td>\n",
       "      <td>Coloring book moana</td>\n",
       "      <td>ART_AND_DESIGN</td>\n",
       "      <td>3.9</td>\n",
       "      <td>967</td>\n",
       "      <td>14M</td>\n",
       "      <td>500,000+</td>\n",
       "      <td>Free</td>\n",
       "      <td>0</td>\n",
       "      <td>Everyone</td>\n",
       "      <td>Art &amp; Design;Pretend Play</td>\n",
       "      <td>January 15, 2018</td>\n",
       "      <td>2.0.0</td>\n",
       "      <td>4.0.3 and up</td>\n",
       "    </tr>\n",
       "    <tr>\n",
       "      <td>2</td>\n",
       "      <td>U Launcher Lite – FREE Live Cool Themes, Hide ...</td>\n",
       "      <td>ART_AND_DESIGN</td>\n",
       "      <td>4.7</td>\n",
       "      <td>87510</td>\n",
       "      <td>8.7M</td>\n",
       "      <td>5,000,000+</td>\n",
       "      <td>Free</td>\n",
       "      <td>0</td>\n",
       "      <td>Everyone</td>\n",
       "      <td>Art &amp; Design</td>\n",
       "      <td>August 1, 2018</td>\n",
       "      <td>1.2.4</td>\n",
       "      <td>4.0.3 and up</td>\n",
       "    </tr>\n",
       "    <tr>\n",
       "      <td>3</td>\n",
       "      <td>Sketch - Draw &amp; Paint</td>\n",
       "      <td>ART_AND_DESIGN</td>\n",
       "      <td>4.5</td>\n",
       "      <td>215644</td>\n",
       "      <td>25M</td>\n",
       "      <td>50,000,000+</td>\n",
       "      <td>Free</td>\n",
       "      <td>0</td>\n",
       "      <td>Teen</td>\n",
       "      <td>Art &amp; Design</td>\n",
       "      <td>June 8, 2018</td>\n",
       "      <td>Varies with device</td>\n",
       "      <td>4.2 and up</td>\n",
       "    </tr>\n",
       "    <tr>\n",
       "      <td>4</td>\n",
       "      <td>Pixel Draw - Number Art Coloring Book</td>\n",
       "      <td>ART_AND_DESIGN</td>\n",
       "      <td>4.3</td>\n",
       "      <td>967</td>\n",
       "      <td>2.8M</td>\n",
       "      <td>100,000+</td>\n",
       "      <td>Free</td>\n",
       "      <td>0</td>\n",
       "      <td>Everyone</td>\n",
       "      <td>Art &amp; Design;Creativity</td>\n",
       "      <td>June 20, 2018</td>\n",
       "      <td>1.1</td>\n",
       "      <td>4.4 and up</td>\n",
       "    </tr>\n",
       "  </tbody>\n",
       "</table>\n",
       "</div>"
      ],
      "text/plain": [
       "                                                 App        Category  Rating  \\\n",
       "0     Photo Editor & Candy Camera & Grid & ScrapBook  ART_AND_DESIGN     4.1   \n",
       "1                                Coloring book moana  ART_AND_DESIGN     3.9   \n",
       "2  U Launcher Lite – FREE Live Cool Themes, Hide ...  ART_AND_DESIGN     4.7   \n",
       "3                              Sketch - Draw & Paint  ART_AND_DESIGN     4.5   \n",
       "4              Pixel Draw - Number Art Coloring Book  ART_AND_DESIGN     4.3   \n",
       "\n",
       "  Reviews  Size     Installs  Type Price Content Rating  \\\n",
       "0     159   19M      10,000+  Free     0       Everyone   \n",
       "1     967   14M     500,000+  Free     0       Everyone   \n",
       "2   87510  8.7M   5,000,000+  Free     0       Everyone   \n",
       "3  215644   25M  50,000,000+  Free     0           Teen   \n",
       "4     967  2.8M     100,000+  Free     0       Everyone   \n",
       "\n",
       "                      Genres      Last Updated         Current Ver  \\\n",
       "0               Art & Design   January 7, 2018               1.0.0   \n",
       "1  Art & Design;Pretend Play  January 15, 2018               2.0.0   \n",
       "2               Art & Design    August 1, 2018               1.2.4   \n",
       "3               Art & Design      June 8, 2018  Varies with device   \n",
       "4    Art & Design;Creativity     June 20, 2018                 1.1   \n",
       "\n",
       "    Android Ver  \n",
       "0  4.0.3 and up  \n",
       "1  4.0.3 and up  \n",
       "2  4.0.3 and up  \n",
       "3    4.2 and up  \n",
       "4    4.4 and up  "
      ]
     },
     "execution_count": 6,
     "metadata": {},
     "output_type": "execute_result"
    }
   ],
   "source": [
    "gg.head()"
   ]
  },
  {
   "cell_type": "code",
   "execution_count": 7,
   "metadata": {},
   "outputs": [
    {
     "data": {
      "text/html": [
       "<div>\n",
       "<style scoped>\n",
       "    .dataframe tbody tr th:only-of-type {\n",
       "        vertical-align: middle;\n",
       "    }\n",
       "\n",
       "    .dataframe tbody tr th {\n",
       "        vertical-align: top;\n",
       "    }\n",
       "\n",
       "    .dataframe thead th {\n",
       "        text-align: right;\n",
       "    }\n",
       "</style>\n",
       "<table border=\"1\" class=\"dataframe\">\n",
       "  <thead>\n",
       "    <tr style=\"text-align: right;\">\n",
       "      <th></th>\n",
       "      <th>id</th>\n",
       "      <th>track_name</th>\n",
       "      <th>size_bytes</th>\n",
       "      <th>currency</th>\n",
       "      <th>price</th>\n",
       "      <th>rating_count_tot</th>\n",
       "      <th>rating_count_ver</th>\n",
       "      <th>user_rating</th>\n",
       "      <th>user_rating_ver</th>\n",
       "      <th>ver</th>\n",
       "      <th>cont_rating</th>\n",
       "      <th>prime_genre</th>\n",
       "      <th>sup_devices.num</th>\n",
       "      <th>ipadSc_urls.num</th>\n",
       "      <th>lang.num</th>\n",
       "      <th>vpp_lic</th>\n",
       "    </tr>\n",
       "  </thead>\n",
       "  <tbody>\n",
       "    <tr>\n",
       "      <td>0</td>\n",
       "      <td>284882215</td>\n",
       "      <td>Facebook</td>\n",
       "      <td>389879808</td>\n",
       "      <td>USD</td>\n",
       "      <td>0.0</td>\n",
       "      <td>2974676</td>\n",
       "      <td>212</td>\n",
       "      <td>3.5</td>\n",
       "      <td>3.5</td>\n",
       "      <td>95.0</td>\n",
       "      <td>4+</td>\n",
       "      <td>Social Networking</td>\n",
       "      <td>37</td>\n",
       "      <td>1</td>\n",
       "      <td>29</td>\n",
       "      <td>1</td>\n",
       "    </tr>\n",
       "    <tr>\n",
       "      <td>1</td>\n",
       "      <td>389801252</td>\n",
       "      <td>Instagram</td>\n",
       "      <td>113954816</td>\n",
       "      <td>USD</td>\n",
       "      <td>0.0</td>\n",
       "      <td>2161558</td>\n",
       "      <td>1289</td>\n",
       "      <td>4.5</td>\n",
       "      <td>4.0</td>\n",
       "      <td>10.23</td>\n",
       "      <td>12+</td>\n",
       "      <td>Photo &amp; Video</td>\n",
       "      <td>37</td>\n",
       "      <td>0</td>\n",
       "      <td>29</td>\n",
       "      <td>1</td>\n",
       "    </tr>\n",
       "    <tr>\n",
       "      <td>2</td>\n",
       "      <td>529479190</td>\n",
       "      <td>Clash of Clans</td>\n",
       "      <td>116476928</td>\n",
       "      <td>USD</td>\n",
       "      <td>0.0</td>\n",
       "      <td>2130805</td>\n",
       "      <td>579</td>\n",
       "      <td>4.5</td>\n",
       "      <td>4.5</td>\n",
       "      <td>9.24.12</td>\n",
       "      <td>9+</td>\n",
       "      <td>Games</td>\n",
       "      <td>38</td>\n",
       "      <td>5</td>\n",
       "      <td>18</td>\n",
       "      <td>1</td>\n",
       "    </tr>\n",
       "    <tr>\n",
       "      <td>3</td>\n",
       "      <td>420009108</td>\n",
       "      <td>Temple Run</td>\n",
       "      <td>65921024</td>\n",
       "      <td>USD</td>\n",
       "      <td>0.0</td>\n",
       "      <td>1724546</td>\n",
       "      <td>3842</td>\n",
       "      <td>4.5</td>\n",
       "      <td>4.0</td>\n",
       "      <td>1.6.2</td>\n",
       "      <td>9+</td>\n",
       "      <td>Games</td>\n",
       "      <td>40</td>\n",
       "      <td>5</td>\n",
       "      <td>1</td>\n",
       "      <td>1</td>\n",
       "    </tr>\n",
       "    <tr>\n",
       "      <td>4</td>\n",
       "      <td>284035177</td>\n",
       "      <td>Pandora - Music &amp; Radio</td>\n",
       "      <td>130242560</td>\n",
       "      <td>USD</td>\n",
       "      <td>0.0</td>\n",
       "      <td>1126879</td>\n",
       "      <td>3594</td>\n",
       "      <td>4.0</td>\n",
       "      <td>4.5</td>\n",
       "      <td>8.4.1</td>\n",
       "      <td>12+</td>\n",
       "      <td>Music</td>\n",
       "      <td>37</td>\n",
       "      <td>4</td>\n",
       "      <td>1</td>\n",
       "      <td>1</td>\n",
       "    </tr>\n",
       "  </tbody>\n",
       "</table>\n",
       "</div>"
      ],
      "text/plain": [
       "          id               track_name  size_bytes currency  price  \\\n",
       "0  284882215                 Facebook   389879808      USD    0.0   \n",
       "1  389801252                Instagram   113954816      USD    0.0   \n",
       "2  529479190           Clash of Clans   116476928      USD    0.0   \n",
       "3  420009108               Temple Run    65921024      USD    0.0   \n",
       "4  284035177  Pandora - Music & Radio   130242560      USD    0.0   \n",
       "\n",
       "   rating_count_tot  rating_count_ver  user_rating  user_rating_ver      ver  \\\n",
       "0           2974676               212          3.5              3.5     95.0   \n",
       "1           2161558              1289          4.5              4.0    10.23   \n",
       "2           2130805               579          4.5              4.5  9.24.12   \n",
       "3           1724546              3842          4.5              4.0    1.6.2   \n",
       "4           1126879              3594          4.0              4.5    8.4.1   \n",
       "\n",
       "  cont_rating        prime_genre  sup_devices.num  ipadSc_urls.num  lang.num  \\\n",
       "0          4+  Social Networking               37                1        29   \n",
       "1         12+      Photo & Video               37                0        29   \n",
       "2          9+              Games               38                5        18   \n",
       "3          9+              Games               40                5         1   \n",
       "4         12+              Music               37                4         1   \n",
       "\n",
       "   vpp_lic  \n",
       "0        1  \n",
       "1        1  \n",
       "2        1  \n",
       "3        1  \n",
       "4        1  "
      ]
     },
     "execution_count": 7,
     "metadata": {},
     "output_type": "execute_result"
    }
   ],
   "source": [
    "ios.head()"
   ]
  },
  {
   "cell_type": "markdown",
   "metadata": {},
   "source": [
    "Features (columns) of each dataset:"
   ]
  },
  {
   "cell_type": "code",
   "execution_count": 8,
   "metadata": {},
   "outputs": [
    {
     "data": {
      "text/plain": [
       "Index(['App', 'Category', 'Rating', 'Reviews', 'Size', 'Installs', 'Type',\n",
       "       'Price', 'Content Rating', 'Genres', 'Last Updated', 'Current Ver',\n",
       "       'Android Ver'],\n",
       "      dtype='object')"
      ]
     },
     "execution_count": 8,
     "metadata": {},
     "output_type": "execute_result"
    }
   ],
   "source": [
    "gg.columns"
   ]
  },
  {
   "cell_type": "code",
   "execution_count": 9,
   "metadata": {},
   "outputs": [
    {
     "data": {
      "text/plain": [
       "Index(['id', 'track_name', 'size_bytes', 'currency', 'price',\n",
       "       'rating_count_tot', 'rating_count_ver', 'user_rating',\n",
       "       'user_rating_ver', 'ver', 'cont_rating', 'prime_genre',\n",
       "       'sup_devices.num', 'ipadSc_urls.num', 'lang.num', 'vpp_lic'],\n",
       "      dtype='object')"
      ]
     },
     "execution_count": 9,
     "metadata": {},
     "output_type": "execute_result"
    }
   ],
   "source": [
    "ios.columns"
   ]
  },
  {
   "cell_type": "markdown",
   "metadata": {},
   "source": [
    "**Columns with potentially valuable insights in the google play store dataset:**\n",
    "- Category: The genre of the app\n",
    "- Rating: Rating of the app\n",
    "- Installs: Number of Installations by the users\n",
    "\n",
    "- Genres: Sub-genre of the app\n",
    "- Content Rating: This rating is given based on the users for which the app would be appropriate to use.\n",
    "\n",
    "**Columns with potentially valuable insights in the Apple Store dataset:**\n",
    "- id: App identifier\n",
    "- user_rating: Average rating given by the user.\n",
    "- prime_genre: Primary genre of the app\n",
    "- cont_rating: Age above which the application would be appropriate to be used by a user.\n",
    "- sup_devices.num: Number of devices which support the app."
   ]
  },
  {
   "cell_type": "markdown",
   "metadata": {},
   "source": [
    "For more information regarding the features in the datasets please refer to the following links:\n",
    "\n",
    "[ios AppleStore Dataset](https://www.kaggle.com/ramamet4/app-store-apple-data-set-10k-apps)  \n",
    "[Google Play Store Dataset](https://www.kaggle.com/lava18/google-play-store-apps)"
   ]
  },
  {
   "cell_type": "markdown",
   "metadata": {},
   "source": [
    "# Data Cleaning\n",
    "\n",
    "**google playstore dataset**"
   ]
  },
  {
   "cell_type": "code",
   "execution_count": 10,
   "metadata": {},
   "outputs": [
    {
     "name": "stdout",
     "output_type": "stream",
     "text": [
      "<class 'pandas.core.frame.DataFrame'>\n",
      "RangeIndex: 10841 entries, 0 to 10840\n",
      "Data columns (total 13 columns):\n",
      "App               10841 non-null object\n",
      "Category          10841 non-null object\n",
      "Rating            9367 non-null float64\n",
      "Reviews           10841 non-null object\n",
      "Size              10841 non-null object\n",
      "Installs          10841 non-null object\n",
      "Type              10840 non-null object\n",
      "Price             10841 non-null object\n",
      "Content Rating    10840 non-null object\n",
      "Genres            10841 non-null object\n",
      "Last Updated      10841 non-null object\n",
      "Current Ver       10833 non-null object\n",
      "Android Ver       10838 non-null object\n",
      "dtypes: float64(1), object(12)\n",
      "memory usage: 1.1+ MB\n"
     ]
    }
   ],
   "source": [
    "gg.info()"
   ]
  },
  {
   "cell_type": "markdown",
   "metadata": {},
   "source": [
    "Here, we can see that the  google play store dataset or the gg dataset has 10841 rows and 13 columns.  \n",
    "We can also see that there are some columns which have null values as the the number of non-null values in such columns is not equal to 10840. These columns are:\n",
    "\n",
    "- Rating\n",
    "- Type\n",
    "- Current Ver\n",
    "- Android Ver\n",
    "\n",
    "Although these columns have missing information, these rows of data will be handled as we proceed with the data cleaning process."
   ]
  },
  {
   "cell_type": "code",
   "execution_count": 11,
   "metadata": {},
   "outputs": [
    {
     "data": {
      "text/html": [
       "<div>\n",
       "<style scoped>\n",
       "    .dataframe tbody tr th:only-of-type {\n",
       "        vertical-align: middle;\n",
       "    }\n",
       "\n",
       "    .dataframe tbody tr th {\n",
       "        vertical-align: top;\n",
       "    }\n",
       "\n",
       "    .dataframe thead th {\n",
       "        text-align: right;\n",
       "    }\n",
       "</style>\n",
       "<table border=\"1\" class=\"dataframe\">\n",
       "  <thead>\n",
       "    <tr style=\"text-align: right;\">\n",
       "      <th></th>\n",
       "      <th>App</th>\n",
       "      <th>Category</th>\n",
       "      <th>Rating</th>\n",
       "      <th>Reviews</th>\n",
       "      <th>Size</th>\n",
       "      <th>Installs</th>\n",
       "      <th>Type</th>\n",
       "      <th>Price</th>\n",
       "      <th>Content Rating</th>\n",
       "      <th>Genres</th>\n",
       "      <th>Last Updated</th>\n",
       "      <th>Current Ver</th>\n",
       "      <th>Android Ver</th>\n",
       "    </tr>\n",
       "  </thead>\n",
       "  <tbody>\n",
       "    <tr>\n",
       "      <td>15</td>\n",
       "      <td>Learn To Draw Kawaii Characters</td>\n",
       "      <td>ART_AND_DESIGN</td>\n",
       "      <td>3.2</td>\n",
       "      <td>55</td>\n",
       "      <td>2.7M</td>\n",
       "      <td>5,000+</td>\n",
       "      <td>Free</td>\n",
       "      <td>0</td>\n",
       "      <td>Everyone</td>\n",
       "      <td>Art &amp; Design</td>\n",
       "      <td>June 6, 2018</td>\n",
       "      <td>NaN</td>\n",
       "      <td>4.2 and up</td>\n",
       "    </tr>\n",
       "    <tr>\n",
       "      <td>23</td>\n",
       "      <td>Mcqueen Coloring pages</td>\n",
       "      <td>ART_AND_DESIGN</td>\n",
       "      <td>NaN</td>\n",
       "      <td>61</td>\n",
       "      <td>7.0M</td>\n",
       "      <td>100,000+</td>\n",
       "      <td>Free</td>\n",
       "      <td>0</td>\n",
       "      <td>Everyone</td>\n",
       "      <td>Art &amp; Design;Action &amp; Adventure</td>\n",
       "      <td>March 7, 2018</td>\n",
       "      <td>1.0.0</td>\n",
       "      <td>4.1 and up</td>\n",
       "    </tr>\n",
       "    <tr>\n",
       "      <td>113</td>\n",
       "      <td>Wrinkles and rejuvenation</td>\n",
       "      <td>BEAUTY</td>\n",
       "      <td>NaN</td>\n",
       "      <td>182</td>\n",
       "      <td>5.7M</td>\n",
       "      <td>100,000+</td>\n",
       "      <td>Free</td>\n",
       "      <td>0</td>\n",
       "      <td>Everyone 10+</td>\n",
       "      <td>Beauty</td>\n",
       "      <td>September 20, 2017</td>\n",
       "      <td>8.0</td>\n",
       "      <td>3.0 and up</td>\n",
       "    </tr>\n",
       "    <tr>\n",
       "      <td>123</td>\n",
       "      <td>Manicure - nail design</td>\n",
       "      <td>BEAUTY</td>\n",
       "      <td>NaN</td>\n",
       "      <td>119</td>\n",
       "      <td>3.7M</td>\n",
       "      <td>50,000+</td>\n",
       "      <td>Free</td>\n",
       "      <td>0</td>\n",
       "      <td>Everyone</td>\n",
       "      <td>Beauty</td>\n",
       "      <td>July 23, 2018</td>\n",
       "      <td>1.3</td>\n",
       "      <td>4.1 and up</td>\n",
       "    </tr>\n",
       "    <tr>\n",
       "      <td>126</td>\n",
       "      <td>Skin Care and Natural Beauty</td>\n",
       "      <td>BEAUTY</td>\n",
       "      <td>NaN</td>\n",
       "      <td>654</td>\n",
       "      <td>7.4M</td>\n",
       "      <td>100,000+</td>\n",
       "      <td>Free</td>\n",
       "      <td>0</td>\n",
       "      <td>Teen</td>\n",
       "      <td>Beauty</td>\n",
       "      <td>July 17, 2018</td>\n",
       "      <td>1.15</td>\n",
       "      <td>4.1 and up</td>\n",
       "    </tr>\n",
       "    <tr>\n",
       "      <td>...</td>\n",
       "      <td>...</td>\n",
       "      <td>...</td>\n",
       "      <td>...</td>\n",
       "      <td>...</td>\n",
       "      <td>...</td>\n",
       "      <td>...</td>\n",
       "      <td>...</td>\n",
       "      <td>...</td>\n",
       "      <td>...</td>\n",
       "      <td>...</td>\n",
       "      <td>...</td>\n",
       "      <td>...</td>\n",
       "      <td>...</td>\n",
       "    </tr>\n",
       "    <tr>\n",
       "      <td>10824</td>\n",
       "      <td>Cardio-FR</td>\n",
       "      <td>MEDICAL</td>\n",
       "      <td>NaN</td>\n",
       "      <td>67</td>\n",
       "      <td>82M</td>\n",
       "      <td>10,000+</td>\n",
       "      <td>Free</td>\n",
       "      <td>0</td>\n",
       "      <td>Everyone</td>\n",
       "      <td>Medical</td>\n",
       "      <td>July 31, 2018</td>\n",
       "      <td>2.2.2</td>\n",
       "      <td>4.4 and up</td>\n",
       "    </tr>\n",
       "    <tr>\n",
       "      <td>10825</td>\n",
       "      <td>Naruto &amp; Boruto FR</td>\n",
       "      <td>SOCIAL</td>\n",
       "      <td>NaN</td>\n",
       "      <td>7</td>\n",
       "      <td>7.7M</td>\n",
       "      <td>100+</td>\n",
       "      <td>Free</td>\n",
       "      <td>0</td>\n",
       "      <td>Teen</td>\n",
       "      <td>Social</td>\n",
       "      <td>February 2, 2018</td>\n",
       "      <td>1.0</td>\n",
       "      <td>4.0 and up</td>\n",
       "    </tr>\n",
       "    <tr>\n",
       "      <td>10831</td>\n",
       "      <td>payermonstationnement.fr</td>\n",
       "      <td>MAPS_AND_NAVIGATION</td>\n",
       "      <td>NaN</td>\n",
       "      <td>38</td>\n",
       "      <td>9.8M</td>\n",
       "      <td>5,000+</td>\n",
       "      <td>Free</td>\n",
       "      <td>0</td>\n",
       "      <td>Everyone</td>\n",
       "      <td>Maps &amp; Navigation</td>\n",
       "      <td>June 13, 2018</td>\n",
       "      <td>2.0.148.0</td>\n",
       "      <td>4.0 and up</td>\n",
       "    </tr>\n",
       "    <tr>\n",
       "      <td>10835</td>\n",
       "      <td>FR Forms</td>\n",
       "      <td>BUSINESS</td>\n",
       "      <td>NaN</td>\n",
       "      <td>0</td>\n",
       "      <td>9.6M</td>\n",
       "      <td>10+</td>\n",
       "      <td>Free</td>\n",
       "      <td>0</td>\n",
       "      <td>Everyone</td>\n",
       "      <td>Business</td>\n",
       "      <td>September 29, 2016</td>\n",
       "      <td>1.1.5</td>\n",
       "      <td>4.0 and up</td>\n",
       "    </tr>\n",
       "    <tr>\n",
       "      <td>10838</td>\n",
       "      <td>Parkinson Exercices FR</td>\n",
       "      <td>MEDICAL</td>\n",
       "      <td>NaN</td>\n",
       "      <td>3</td>\n",
       "      <td>9.5M</td>\n",
       "      <td>1,000+</td>\n",
       "      <td>Free</td>\n",
       "      <td>0</td>\n",
       "      <td>Everyone</td>\n",
       "      <td>Medical</td>\n",
       "      <td>January 20, 2017</td>\n",
       "      <td>1.0</td>\n",
       "      <td>2.2 and up</td>\n",
       "    </tr>\n",
       "  </tbody>\n",
       "</table>\n",
       "<p>1481 rows × 13 columns</p>\n",
       "</div>"
      ],
      "text/plain": [
       "                                   App             Category  Rating Reviews  \\\n",
       "15     Learn To Draw Kawaii Characters       ART_AND_DESIGN     3.2      55   \n",
       "23              Mcqueen Coloring pages       ART_AND_DESIGN     NaN      61   \n",
       "113          Wrinkles and rejuvenation               BEAUTY     NaN     182   \n",
       "123             Manicure - nail design               BEAUTY     NaN     119   \n",
       "126       Skin Care and Natural Beauty               BEAUTY     NaN     654   \n",
       "...                                ...                  ...     ...     ...   \n",
       "10824                        Cardio-FR              MEDICAL     NaN      67   \n",
       "10825               Naruto & Boruto FR               SOCIAL     NaN       7   \n",
       "10831         payermonstationnement.fr  MAPS_AND_NAVIGATION     NaN      38   \n",
       "10835                         FR Forms             BUSINESS     NaN       0   \n",
       "10838           Parkinson Exercices FR              MEDICAL     NaN       3   \n",
       "\n",
       "       Size  Installs  Type Price Content Rating  \\\n",
       "15     2.7M    5,000+  Free     0       Everyone   \n",
       "23     7.0M  100,000+  Free     0       Everyone   \n",
       "113    5.7M  100,000+  Free     0   Everyone 10+   \n",
       "123    3.7M   50,000+  Free     0       Everyone   \n",
       "126    7.4M  100,000+  Free     0           Teen   \n",
       "...     ...       ...   ...   ...            ...   \n",
       "10824   82M   10,000+  Free     0       Everyone   \n",
       "10825  7.7M      100+  Free     0           Teen   \n",
       "10831  9.8M    5,000+  Free     0       Everyone   \n",
       "10835  9.6M       10+  Free     0       Everyone   \n",
       "10838  9.5M    1,000+  Free     0       Everyone   \n",
       "\n",
       "                                Genres        Last Updated Current Ver  \\\n",
       "15                        Art & Design        June 6, 2018         NaN   \n",
       "23     Art & Design;Action & Adventure       March 7, 2018       1.0.0   \n",
       "113                             Beauty  September 20, 2017         8.0   \n",
       "123                             Beauty       July 23, 2018         1.3   \n",
       "126                             Beauty       July 17, 2018        1.15   \n",
       "...                                ...                 ...         ...   \n",
       "10824                          Medical       July 31, 2018       2.2.2   \n",
       "10825                           Social    February 2, 2018         1.0   \n",
       "10831                Maps & Navigation       June 13, 2018   2.0.148.0   \n",
       "10835                         Business  September 29, 2016       1.1.5   \n",
       "10838                          Medical    January 20, 2017         1.0   \n",
       "\n",
       "      Android Ver  \n",
       "15     4.2 and up  \n",
       "23     4.1 and up  \n",
       "113    3.0 and up  \n",
       "123    4.1 and up  \n",
       "126    4.1 and up  \n",
       "...           ...  \n",
       "10824  4.4 and up  \n",
       "10825  4.0 and up  \n",
       "10831  4.0 and up  \n",
       "10835  4.0 and up  \n",
       "10838  2.2 and up  \n",
       "\n",
       "[1481 rows x 13 columns]"
      ]
     },
     "execution_count": 11,
     "metadata": {},
     "output_type": "execute_result"
    }
   ],
   "source": [
    "gg[gg.isna().any(axis=1)]\n",
    "# Here we can see that there are 1481 missing values in total."
   ]
  },
  {
   "cell_type": "markdown",
   "metadata": {},
   "source": [
    " "
   ]
  },
  {
   "cell_type": "markdown",
   "metadata": {},
   "source": [
    "Let's first check if there is duplicate data regarding the same application."
   ]
  },
  {
   "cell_type": "code",
   "execution_count": 12,
   "metadata": {},
   "outputs": [],
   "source": [
    "# Getting the values of those apps whose count is more than 1 \n",
    "duplicate = gg['App'].value_counts()[gg['App'].value_counts()>1]"
   ]
  },
  {
   "cell_type": "code",
   "execution_count": 13,
   "metadata": {},
   "outputs": [
    {
     "data": {
      "text/plain": [
       "798"
      ]
     },
     "execution_count": 13,
     "metadata": {},
     "output_type": "execute_result"
    }
   ],
   "source": [
    "\n",
    "len(duplicate)"
   ]
  },
  {
   "cell_type": "markdown",
   "metadata": {},
   "source": [
    "There are total 798 rows which have duplicate data regarding the apps. However, it is necessary to check if the data in these rows are completely duplicated or if they are only partially duplicated"
   ]
  },
  {
   "cell_type": "code",
   "execution_count": 14,
   "metadata": {},
   "outputs": [],
   "source": [
    "# Getting the names of apps for which duplicate data is present.\n",
    "duplicate_apps = list(duplicate.index)"
   ]
  },
  {
   "cell_type": "code",
   "execution_count": 15,
   "metadata": {},
   "outputs": [
    {
     "data": {
      "text/plain": [
       "(1979, 13)"
      ]
     },
     "execution_count": 15,
     "metadata": {},
     "output_type": "execute_result"
    }
   ],
   "source": [
    "# Making a subset dataframe which has only the duplicate information\n",
    "dups = gg[gg['App'].isin(duplicate_apps)]\n",
    "dups.shape"
   ]
  },
  {
   "cell_type": "markdown",
   "metadata": {},
   "source": [
    "Hence, there are 1979 rows of duplicate data"
   ]
  },
  {
   "cell_type": "code",
   "execution_count": 16,
   "metadata": {},
   "outputs": [
    {
     "data": {
      "text/plain": [
       "{'10 Best Foods for You',\n",
       " '1800 Contacts - Lens Store',\n",
       " '2017 EMRA Antibiotic Guide',\n",
       " '21-Day Meditation Experience',\n",
       " '365Scores - Live Scores',\n",
       " '420 BZ Budeze Delivery',\n",
       " '8 Ball Pool',\n",
       " '8fit Workouts & Meal Planner',\n",
       " '95Live -SG#1 Live Streaming App',\n",
       " 'A Manual of Acupuncture',\n",
       " 'A&E - Watch Full Episodes of TV Shows',\n",
       " 'AAFP',\n",
       " 'ABC News - US & World News',\n",
       " 'AC - Tips & News for Android™',\n",
       " 'AP Mobile - Breaking News',\n",
       " 'ASCCP Mobile',\n",
       " 'ASOS',\n",
       " 'Accounting App - Zoho Books',\n",
       " 'AccuWeather: Daily Forecast & Live Weather Reports',\n",
       " 'Acorns - Invest Spare Change',\n",
       " 'AdWords Express',\n",
       " 'Ada - Your Health Guide',\n",
       " 'Adobe Acrobat Reader',\n",
       " 'Adobe Photoshop Express:Photo Editor Collage Maker',\n",
       " 'Adult Dirty Emojis',\n",
       " 'Advanced Comprehension Therapy',\n",
       " 'Agar.io',\n",
       " 'Airbnb',\n",
       " 'Airway Ex - Intubate. Anesthetize. Train.',\n",
       " 'AliExpress - Smarter Shopping, Better Living',\n",
       " 'All Football - Latest News & Videos',\n",
       " 'All Mental disorders',\n",
       " 'All Social Networks',\n",
       " \"Alto's Adventure\",\n",
       " 'Amazon Kindle',\n",
       " 'Amazon Shopping',\n",
       " 'Amazon for Tablets',\n",
       " 'American Airlines',\n",
       " 'Amino: Communities and Chats',\n",
       " 'AnatomyMapp',\n",
       " 'Android Messages',\n",
       " 'Anger of stick 5 : zombie',\n",
       " 'Angry Birds 2',\n",
       " 'Angry Birds Classic',\n",
       " 'Angry Birds Rio',\n",
       " 'Animal Jam - Play Wild!',\n",
       " 'Anthem Anywhere',\n",
       " 'Anthem BC Anywhere',\n",
       " 'Any.do: To-do list, Calendar, Reminders & Planner',\n",
       " 'Apartment List: Housing, Apt, and Property Rentals',\n",
       " 'Apartments & Rentals - Zillow',\n",
       " 'Apartments.com Rental Search',\n",
       " 'Apex Launcher',\n",
       " 'Asana: organize team projects',\n",
       " 'Avokiddo Emotions',\n",
       " 'B612 - Beauty & Filter Camera',\n",
       " 'BBC News',\n",
       " 'BBC Sport',\n",
       " 'BBM - Free Calls & Messages',\n",
       " 'BBW Dating & Curvy Singles Chat- LargeFriends',\n",
       " 'BBW Dating & Plus Size Chat',\n",
       " 'BET NOW - Watch Shows',\n",
       " 'BP Journal - Blood Pressure Diary',\n",
       " 'BZWBK24 mobile',\n",
       " 'Babbel – Learn Languages',\n",
       " 'Baby Panda Care',\n",
       " 'Backgrounds HD (Wallpapers)',\n",
       " 'Badoo - Free Chat & Dating App',\n",
       " 'Banfield Pet Health Tracker',\n",
       " 'Barbie™ Fashion Closet',\n",
       " 'Beautiful Widgets Free',\n",
       " 'Beautiful Widgets Pro',\n",
       " 'BeautyPlus - Easy Photo Editor & Selfie Camera',\n",
       " 'Best Fiends - Free Puzzle Game',\n",
       " 'BeyondMenu Food Delivery',\n",
       " 'Bita and the Animals - Pelos Ares',\n",
       " 'Black People Meet Singles Date',\n",
       " 'Black White Interracial Dating - Interracial Match',\n",
       " 'Bleacher Report: sports news, scores, & highlights',\n",
       " 'Blendr - Chat, Flirt & Meet',\n",
       " 'Block Buddy',\n",
       " 'Block Craft 3D: Building Simulator Games For Free',\n",
       " 'Block Puzzle',\n",
       " 'Block Puzzle Classic Legend !',\n",
       " 'Blood Pressure',\n",
       " 'Blood Pressure Companion',\n",
       " 'Blood Pressure Log - MyDiary',\n",
       " 'Blood Pressure Monitor',\n",
       " 'Blood Pressure(BP) Diary',\n",
       " 'Blur Image Background',\n",
       " 'Booking.com Travel Deals',\n",
       " 'Bowmasters',\n",
       " 'Box',\n",
       " 'Breastfeeding Tracker Baby Log',\n",
       " 'Brilliant',\n",
       " 'Brit + Co',\n",
       " 'British Airways',\n",
       " 'Bubble Shooter',\n",
       " 'Bubble Shooter 2',\n",
       " 'BuzzFeed: News, Tasty, Quizzes',\n",
       " 'C Programming',\n",
       " 'CBS - Full Episodes & Live TV',\n",
       " 'CBS Sports App - Scores, News, Stats & Watch Live',\n",
       " 'CBS Sports Fantasy',\n",
       " 'CJmall',\n",
       " 'CM Browser - Ad Blocker , Fast Download , Privacy',\n",
       " 'CM FILE MANAGER HD',\n",
       " 'CM Flashlight (Compass, SOS)',\n",
       " 'CM Launcher 3D - Theme, Wallpapers, Efficient',\n",
       " 'CM Locker - Security Lockscreen',\n",
       " 'CMB Free Dating App',\n",
       " 'CNBC: Breaking Business News & Live Market Data',\n",
       " 'CNN Breaking US & World News',\n",
       " \"COOKING MAMA Let's Cook!\",\n",
       " 'CT Scan Cross Sectional Anatomy',\n",
       " 'CW Seed',\n",
       " 'Cache Cleaner-DU Speed Booster (booster & cleaner)',\n",
       " 'Calculator',\n",
       " 'Call Blocker',\n",
       " 'CallApp: Caller ID, Blocker & Phone Call Recorder',\n",
       " 'Calls & Text by Mo+',\n",
       " 'Calm - Meditate, Sleep, Relax',\n",
       " 'Calorie Counter & Diet Tracker',\n",
       " 'Calorie Counter - Macros',\n",
       " 'Calorie Counter - MyFitnessPal',\n",
       " 'Calorie Counter - MyNetDiary',\n",
       " 'Calorie Counter by FatSecret',\n",
       " 'Camera FV-5',\n",
       " 'Camera FV-5 Lite',\n",
       " 'Camera MX - Free Photo & Video Camera',\n",
       " 'Camera for Android',\n",
       " 'Camera360 Lite - Selfie Camera',\n",
       " 'Camera360: Selfie Photo Editor with Funny Sticker',\n",
       " 'Candy Bomb',\n",
       " 'Candy Camera - selfie, beauty camera, photo editor',\n",
       " 'Candy Crush Jelly Saga',\n",
       " 'Candy Crush Saga',\n",
       " 'Candy Crush Soda Saga',\n",
       " 'Capital One® Mobile',\n",
       " 'Cardboard',\n",
       " 'Cardi B Live Stream Video Chat - Prank',\n",
       " 'Cardiac diagnosis (heart rate, arrhythmia)',\n",
       " 'Carousell: Snap-Sell, Chat-Buy',\n",
       " 'Cartoon Network App',\n",
       " 'Castle Clash: Heroes of the Empire US',\n",
       " 'Casual Dating & Adult Singles - Joyride',\n",
       " 'Chat Kids - Chat Room For Kids',\n",
       " 'Chat Rooms, Avatars, Date - Galaxy',\n",
       " 'Cheapflights – Flight Search',\n",
       " 'Checkout 51: Grocery coupons',\n",
       " 'Chess Free',\n",
       " 'Chick-fil-A',\n",
       " 'Chictopia',\n",
       " 'Chispa, the Dating App for Latino, Latina Singles',\n",
       " 'Choices: Stories You Play',\n",
       " 'Christian Dating For Free App',\n",
       " 'Chrome Beta',\n",
       " 'Chrome Dev',\n",
       " 'Clash Royale',\n",
       " 'Clash of Clans',\n",
       " 'ClassDojo',\n",
       " 'Clover Dating App',\n",
       " 'Color by Number – New Coloring Book',\n",
       " 'ColorNote Notepad Notes',\n",
       " 'Colorfy: Coloring Book for Adults - Free',\n",
       " 'Coloring book moana',\n",
       " 'Comedy Central',\n",
       " 'Cooking Fever',\n",
       " 'Cougar Dating Life : Date Older Women Sugar Mummy',\n",
       " 'Couple - Relationship App',\n",
       " 'Coursera: Online courses',\n",
       " 'CppDroid - C/C++ IDE',\n",
       " 'Crackle - Free TV & Movies',\n",
       " 'Credit Karma',\n",
       " 'Crew - Free Messaging and Scheduling',\n",
       " 'Cricbuzz - Live Cricket Scores & News',\n",
       " 'Crossy Road',\n",
       " 'Crunchyroll - Everything Anime',\n",
       " 'Curriculum vitae App CV Builder Free Resume Maker',\n",
       " 'Cut the Rope FULL FREE',\n",
       " 'Cymera Camera- Photo Editor, Filter,Collage,Layout',\n",
       " 'DC Comics',\n",
       " 'DC Super Hero Girls™',\n",
       " 'DEAD TARGET: FPS Zombie Apocalypse Survival Games',\n",
       " 'DEER HUNTER 2018',\n",
       " 'DINO HUNTER: DEADLY SHORES',\n",
       " 'DRAGON BALL LEGENDS',\n",
       " 'DU Browser—Browse fast & fun',\n",
       " 'Daily Manga - Comic & Webtoon',\n",
       " 'Daily Yoga - Yoga Fitness Plans',\n",
       " 'Dairy Queen',\n",
       " 'Dating App, Flirt & Chat : W-Match',\n",
       " 'Dating for 50 plus Mature Singles – FINALLY',\n",
       " 'Diabetes & Diet Tracker',\n",
       " 'Diabetes:M',\n",
       " 'Diary with lock',\n",
       " 'Dictionary - Merriam-Webster',\n",
       " 'Digit Save Money Automatically',\n",
       " 'Disney Magic Kingdoms: Build Your Own Magical Park',\n",
       " 'DisneyNOW – TV Shows & Games',\n",
       " 'Do It Later: Tasks & To-Dos',\n",
       " 'Docs To Go™ Free Office Suite',\n",
       " 'Dog Run - Pet Dog Simulator',\n",
       " \"Domino's Pizza USA\",\n",
       " \"Dr. Panda & Toto's Treehouse\",\n",
       " 'Dream League Soccer 2018',\n",
       " 'DreamWorks Friends',\n",
       " 'Dropbox',\n",
       " 'Dude Perfect 2',\n",
       " 'Dungeon Hunter Champions: Epic Online Action RPG',\n",
       " \"Dunkin' Donuts\",\n",
       " 'Duolingo: Learn Languages Free',\n",
       " 'E*TRADE Mobile',\n",
       " 'EMT PASS',\n",
       " 'EMT Review Plus',\n",
       " 'EMT Tutor NREMT-B Study Guide',\n",
       " 'EMT-B Pocket Prep',\n",
       " 'ES File Explorer File Manager',\n",
       " 'ESPN',\n",
       " 'ESPN Fantasy Sports',\n",
       " 'Earn to Die 2',\n",
       " 'Ebook Reader',\n",
       " 'Edmodo',\n",
       " 'EliteSingles – Dating for Single Professionals',\n",
       " 'Elmo Calls by Sesame Street',\n",
       " 'Endomondo - Running & Walking',\n",
       " 'English Dictionary - Offline',\n",
       " 'English Grammar Test',\n",
       " 'Episode - Choose Your Story',\n",
       " 'Equestria Girls',\n",
       " 'Essential Anatomy 3',\n",
       " 'Etsy: Handmade & Vintage Goods',\n",
       " 'Evernote – Organizer, Planner for Notes & Memos',\n",
       " 'Expedia Hotels, Flights & Car Rental Travel Deals',\n",
       " 'Extreme Coupon Finder',\n",
       " 'FIFA - Tournaments, Soccer News & Live Scores',\n",
       " 'FOX',\n",
       " 'FOX NOW - On Demand & Live TV',\n",
       " 'FOX Sports: Live Streaming, Scores & News',\n",
       " 'FP Notebook',\n",
       " 'Fabulous: Motivate Me! Meditate, Relax, Sleep',\n",
       " 'Face Filter, Selfie Editor - Sweet Camera',\n",
       " 'Facebook',\n",
       " 'Facebook Ads Manager',\n",
       " 'Facebook Lite',\n",
       " 'Facebook Pages Manager',\n",
       " 'Facetune - For Free',\n",
       " 'Fallout Shelter',\n",
       " 'Fancy',\n",
       " 'Fandango Movies - Times + Tickets',\n",
       " 'Fantasy Football',\n",
       " 'Farm Heroes Saga',\n",
       " 'FarmersOnly Dating',\n",
       " 'Farming Simulator 14',\n",
       " 'Fashion in Vogue',\n",
       " 'Fast Scanner : Free PDF Scan',\n",
       " 'FastMeet: Chat, Dating, Love',\n",
       " 'FilterGrid - Cam&Photo Editor',\n",
       " 'Final Fantasy XV: A New Empire',\n",
       " 'Find Real Love — YouLove Premium Dating',\n",
       " 'Firefox Browser fast & private',\n",
       " 'Firefox Focus: The privacy browser',\n",
       " 'Fishdom',\n",
       " 'Fitbit Coach',\n",
       " 'Flashlight',\n",
       " 'Flickr',\n",
       " 'Flipboard: News For Our Time',\n",
       " 'Flipkart Online Shopping App',\n",
       " 'Flipp - Weekly Shopping',\n",
       " 'FlirtChat - ♥Free Dating/Flirting App♥',\n",
       " 'Flow Free',\n",
       " 'Fly Delta',\n",
       " 'Food Calorie Calculator',\n",
       " 'Food Network',\n",
       " 'FotMob - Live Soccer Scores',\n",
       " 'Fox News – Breaking News, Live Video & News Alerts',\n",
       " 'Free Blood Pressure',\n",
       " 'Free Cam Girls - Live Webcam',\n",
       " 'Free Dating & Flirt Chat - Choice of Love',\n",
       " 'Free Dating App - Meet Local Singles - Flirt Chat',\n",
       " 'Free Dating App - YoCutie - Flirt, Chat & Meet',\n",
       " 'Free Dating Hook Up Messenger',\n",
       " 'Free phone calls, free texting SMS on free number',\n",
       " 'FreshBooks Classic',\n",
       " 'Frozen Free Fall',\n",
       " 'Fruits Bomb',\n",
       " 'Fun Kid Racing - Motocross',\n",
       " 'Fuzzy Numbers: Pre-K Number Foundation',\n",
       " 'G Cloud Backup',\n",
       " 'GO Keyboard - Emoticon keyboard, Free Theme, GIF',\n",
       " 'Galaxy Attack: Alien Shooter',\n",
       " \"Game for KIDS: KIDS match'em\",\n",
       " 'Gardenscapes',\n",
       " 'Garena Free Fire',\n",
       " 'Gay Sugar Daddy Dating & Hookup – Sudy Gay',\n",
       " 'Gboard - the Google Keyboard',\n",
       " 'Genius Scan - PDF Scanner',\n",
       " 'Geometry Dash World',\n",
       " 'Girls Live Chat - Free Text & Video Chat',\n",
       " 'Glide - Video Chat Messenger',\n",
       " 'Gmail',\n",
       " 'Golfshot: Golf GPS + Tee Times',\n",
       " 'Google',\n",
       " 'Google Ads',\n",
       " 'Google Allo',\n",
       " 'Google Analytics',\n",
       " 'Google Calendar',\n",
       " 'Google Chrome: Fast & Secure',\n",
       " 'Google Classroom',\n",
       " 'Google Docs',\n",
       " 'Google Drive',\n",
       " 'Google Duo - High Quality Video Calls',\n",
       " 'Google Earth',\n",
       " 'Google Keep',\n",
       " 'Google My Business',\n",
       " 'Google News',\n",
       " 'Google PDF Viewer',\n",
       " 'Google Pay',\n",
       " 'Google Photos',\n",
       " 'Google Play Games',\n",
       " 'Google Sheets',\n",
       " 'Google Street View',\n",
       " 'Google Translate',\n",
       " 'Google Voice',\n",
       " 'Google+',\n",
       " 'Granny',\n",
       " 'Groupon - Shop Deals, Discounts & Coupons',\n",
       " 'Grubhub: Food Delivery',\n",
       " 'Gyft - Mobile Gift Card Wallet',\n",
       " 'H TV',\n",
       " 'H&M',\n",
       " 'HBO GO: Stream with TV Package',\n",
       " 'HBO NOW: Stream TV & Movies',\n",
       " 'HD Camera for Android',\n",
       " 'HD Widgets',\n",
       " 'HISTORY: Watch TV Show Full Episodes & Specials',\n",
       " 'Hangouts',\n",
       " 'Hangouts Dialer - Call Phones',\n",
       " 'Harry Potter: Hogwarts Mystery',\n",
       " 'Haystack TV: Local & World News - Free',\n",
       " 'Headspace: Meditation & Mindfulness',\n",
       " 'Health and Nutrition Guide',\n",
       " 'Helix Jump',\n",
       " 'Hello Kitty Nail Salon',\n",
       " 'HelloTalk — Chat, Speak & Learn Foreign Languages',\n",
       " 'Hide App, Private Dating, Safe Chat - PrivacyHider',\n",
       " 'High Blood Pressure Symptoms',\n",
       " 'Hill Climb Racing',\n",
       " 'Hill Climb Racing 2',\n",
       " 'Hily: Dating, Chat, Match, Meet & Hook up',\n",
       " 'Hinge: Dating & Relationships',\n",
       " 'HipChat - Chat Built for Teams',\n",
       " 'Hole19: Golf GPS App, Rangefinder & Scorecard',\n",
       " 'Home Security Camera WardenCam - reuse old phones',\n",
       " 'Home Workout - No Equipment',\n",
       " 'Homescapes',\n",
       " 'Honkai Impact 3rd',\n",
       " 'Hopper - Watch & Book Flights',\n",
       " 'Hospitalist Handbook',\n",
       " 'Hostelworld: Hostels & Cheap Hotels Travel App',\n",
       " 'Hot Wheels: Race Off',\n",
       " 'Hot or Not - Find someone right now',\n",
       " 'HotelTonight: Book amazing deals at great hotels',\n",
       " 'Hotels.com: Book Hotel Rooms & Find Vacation Deals',\n",
       " 'Houzz Interior Design Ideas',\n",
       " 'Howlr',\n",
       " 'Hulu: Stream TV, Movies & more',\n",
       " 'Human Anatomy Atlas 2018: Complete 3D Human Body',\n",
       " 'Hungry Shark Evolution',\n",
       " 'Hungry Shark World',\n",
       " 'IBM Micromedex Drug Info',\n",
       " 'IMDb Movies & TV',\n",
       " 'Ibotta: Cash Back Savings, Rewards & Coupons App',\n",
       " 'Idle Heroes',\n",
       " 'Inside Out Thought Bubbles',\n",
       " 'Insightly CRM',\n",
       " 'InstaBeauty -Makeup Selfie Cam',\n",
       " 'InstaSize Photo Filters & Collage Editor',\n",
       " 'Instagram',\n",
       " 'Invoice & Time Tracking - Zoho',\n",
       " 'Invoice 2go — Professional Invoices and Estimates',\n",
       " 'I’m Expecting - Pregnancy App',\n",
       " 'JH Blood Pressure Monitor',\n",
       " 'JOANN - Crafts & Coupons',\n",
       " \"JackThreads: Men's Shopping\",\n",
       " 'Jaumo Dating, Flirt & Live Video',\n",
       " 'Jetpack Joyride',\n",
       " 'Jewels Star: OZ adventure',\n",
       " 'Journal Club: Medicine',\n",
       " 'Jurassic World™ Alive',\n",
       " 'Just She - Top Lesbian Dating',\n",
       " 'K PLUS',\n",
       " 'KAYAK Flights, Hotels & Cars',\n",
       " 'KakaoTalk: Free Calls & Text',\n",
       " 'Khan Academy',\n",
       " 'Kick the Buddy',\n",
       " 'Kids Balloon Pop Game Free 🎈',\n",
       " 'Knife Hit',\n",
       " 'LEGO® Juniors Create & Cruise',\n",
       " 'LEGO® TV',\n",
       " 'LINE Camera - Photo editor',\n",
       " 'LINE WEBTOON - Free Comics',\n",
       " 'LINE: Free Calls & Messages',\n",
       " 'LOVOO',\n",
       " 'Lark - 24/7 Health Coach',\n",
       " 'Last Day on Earth: Survival',\n",
       " 'Learn 50 languages',\n",
       " 'Learn C++',\n",
       " 'Learn English with Wlingua',\n",
       " 'Learn languages, grammar & vocabulary with Memrise',\n",
       " 'Lifetime - Watch Full Episodes & Original Movies',\n",
       " 'LinkedIn',\n",
       " 'Live Girls Talk - Free Video Chat',\n",
       " 'Live Talk - Free Text and Video Chat',\n",
       " 'LiveMe - Video chat, new friends, and make money',\n",
       " 'LivingSocial - Local Deals',\n",
       " 'Lose It! - Calorie Counter',\n",
       " 'Love Balls',\n",
       " 'Lumosity: #1 Brain Games & Cognitive Training App',\n",
       " 'Lynda - Online Training Videos',\n",
       " 'MARVEL Contest of Champions',\n",
       " 'MARVEL Strike Force',\n",
       " 'MEGA',\n",
       " 'MLB At Bat',\n",
       " 'MLB Ballpark',\n",
       " 'MTV',\n",
       " 'MX Player',\n",
       " 'Magic Tiles 3',\n",
       " 'MailChimp - Email, Marketing Automation',\n",
       " 'Manga AZ - Manga Comic Reader',\n",
       " 'Mango Languages: Lovable Language Courses',\n",
       " 'Maps & GPS Navigation — OsmAnd',\n",
       " 'Maps - Navigate & Explore',\n",
       " 'Mapy.cz - Cycling & Hiking offline maps',\n",
       " 'Maricopa AH',\n",
       " 'Masha and the Bear Child Games',\n",
       " \"McDonald's\",\n",
       " 'Mcqueen Coloring pages',\n",
       " 'MealLogger-Photo Food Journal',\n",
       " 'Medical ID - In Case of Emergency (ICE)',\n",
       " 'Meditation Music - Relax, Yoga',\n",
       " 'Meet24 - Love, Chat, Singles',\n",
       " 'Meet4U - Chat, Love, Singles!',\n",
       " 'MeetMe: Chat & Meet New People',\n",
       " 'Meetup',\n",
       " 'Merge Dragons!',\n",
       " 'Messages, Text and Video Chat for Messenger',\n",
       " 'Messenger Lite: Free Calls & Messages',\n",
       " 'Messenger – Text and Video Chat for Free',\n",
       " 'Metal Soldiers 2',\n",
       " 'Microsoft Edge',\n",
       " 'Microsoft Excel',\n",
       " 'Microsoft OneDrive',\n",
       " 'Microsoft OneNote',\n",
       " 'Microsoft Outlook',\n",
       " 'Microsoft PowerPoint',\n",
       " 'Microsoft Word',\n",
       " 'Millionaire Match: Rich Singles Dating App',\n",
       " 'Minecraft',\n",
       " 'Minion Rush: Despicable Me Official Game',\n",
       " 'Mint: Budget, Bills, Finance',\n",
       " 'Miraculous Ladybug & Cat Noir - The Official Game',\n",
       " 'Mobi Calculator free & AD free!',\n",
       " 'Mobile Doc Scanner (MDScan) Lite',\n",
       " 'Moco - Chat, Meet People',\n",
       " 'Moco+ - Chat, Meet People',\n",
       " \"Modcloth – Unique Indie Women's Fashion & Style\",\n",
       " 'Monash Uni Low FODMAP Diet',\n",
       " 'Money Lover: Expense Tracker, Budget Planner',\n",
       " 'Moneycontrol – Stocks, Sensex, Mutual Funds, IPO',\n",
       " 'Monster High™',\n",
       " 'Monster Truck Driver & Racing',\n",
       " 'MoodSpace',\n",
       " 'Moovit: Bus Time & Train Time Live Info',\n",
       " 'Mortgage by Zillow: Calculator & Rates',\n",
       " 'Moto File Manager',\n",
       " 'Motorola FM Radio',\n",
       " 'MouseMingle',\n",
       " 'Movies by Flixster, with Rotten Tomatoes',\n",
       " 'Muscle Premium - Human Anatomy, Kinesiology, Bones',\n",
       " 'Muzy - Share photos & collages',\n",
       " 'My Class Schedule: Timetable',\n",
       " 'My Diet Diary Calorie Counter',\n",
       " 'My Dressing - Fashion closet',\n",
       " 'My Little Pony Celebration',\n",
       " 'My Little Pony: Harmony Quest',\n",
       " 'My Photo Keyboard',\n",
       " 'My Talking Angela',\n",
       " 'My Talking Tom',\n",
       " 'MyPlate Calorie Tracker',\n",
       " 'NBC News',\n",
       " 'NFL',\n",
       " 'NOOK App for NOOK Devices',\n",
       " 'NOOK: Read eBooks & Magazines',\n",
       " 'NPR News',\n",
       " 'NYTimes - Latest News',\n",
       " 'Netflix',\n",
       " 'Newegg Mobile',\n",
       " 'Newsroom: News Worth Sharing',\n",
       " 'Nextdoor - Local neighborhood news & classifieds',\n",
       " 'Nick',\n",
       " 'Nighty Night Circus',\n",
       " 'Nike Training Club - Workouts & Fitness Plans',\n",
       " 'Nike+ Run Club',\n",
       " 'No Crop & Square for Instagram',\n",
       " 'No.Draw - Colors by Number 2018',\n",
       " 'Notepad & To do list',\n",
       " 'Nova Launcher',\n",
       " 'Nurse Grid',\n",
       " 'O-Star',\n",
       " 'OfficeSuite : Free Office + PDF Editor',\n",
       " 'Offline Maps & Navigation',\n",
       " 'OkCupid Dating',\n",
       " 'Once - Quality Matches Every day',\n",
       " 'Open Camera',\n",
       " 'Opera Browser: Fast and Secure',\n",
       " 'Opera Mini - fast web browser',\n",
       " 'Orbitz - Hotels, Flights & Package Deals',\n",
       " 'Overstock – Home Decor, Furniture Shopping',\n",
       " 'Ovia Fertility Tracker & Ovulation Calculator',\n",
       " 'Oxford Dictionary of English : Free',\n",
       " 'PAC-MAN',\n",
       " 'PBS KIDS Video',\n",
       " 'PGA TOUR',\n",
       " 'PJ Masks: Moonlight Heroes',\n",
       " 'PMHNP-BC Pocket Prep',\n",
       " 'POF Free Dating App',\n",
       " 'PTA Content Master',\n",
       " 'PUBG MOBILE',\n",
       " 'Panera Bread',\n",
       " 'Papumba Academy - Fun Learning For Kids',\n",
       " 'Paramedic Protocol Provider',\n",
       " 'PayPal',\n",
       " 'Peak – Brain Games & Training',\n",
       " 'Pedi STAT',\n",
       " 'Penn State Health OnDemand',\n",
       " 'Period Tracker',\n",
       " 'Periscope - Live Video',\n",
       " 'Phogy, 3D Camera',\n",
       " 'Phone Tracker : Family Locator',\n",
       " 'Photo Editor',\n",
       " 'Photo Editor Pro',\n",
       " 'Photo Editor Selfie Camera Filter & Mirror Image',\n",
       " 'Photo Editor by Aviary',\n",
       " 'Photo Editor-',\n",
       " 'PicsArt Photo Studio: Collage Maker & Pic Editor',\n",
       " 'Pinterest',\n",
       " 'Pixel Art: Color by Number Game',\n",
       " 'Planner Pro-Personal Organizer',\n",
       " 'Plants vs. Zombies FREE',\n",
       " 'Plants vs. Zombies™ Heroes',\n",
       " 'PlayKids - Educational cartoons and games for kids',\n",
       " 'Pocket Yoga',\n",
       " 'Podcast App: Free & Offline Podcasts by Player FM',\n",
       " 'Pokémon GO',\n",
       " 'Polaris Office - Word, Docs, Sheets, Slide, PDF',\n",
       " 'Poshmark - Buy & Sell Fashion',\n",
       " 'Postmates Food Delivery: Order Eats & Alcohol',\n",
       " 'Pou',\n",
       " 'PowerDirector Video Editor App: 4K, Slow Mo & More',\n",
       " 'Premier League - Official App',\n",
       " 'Priceline Hotel Deals, Rental Cars & Flights',\n",
       " 'Princess Coloring Book',\n",
       " 'Puffin Web Browser',\n",
       " 'QR Scanner & Barcode Scanner 2018',\n",
       " 'Quick PDF Scanner + OCR FREE',\n",
       " 'QuickBooks Accounting: Invoicing & Expenses',\n",
       " 'QuickPic - Photo Gallery with Google Drive Support',\n",
       " 'Quizlet: Learn Languages & Vocab with Flashcards',\n",
       " 'Quora',\n",
       " 'ROBLOX',\n",
       " 'RT 516 VET',\n",
       " 'RULES OF SURVIVAL',\n",
       " 'Racing in Car 2',\n",
       " 'Random Video Chat',\n",
       " 'Random Video Chat App With Strangers',\n",
       " 'Real Racing 3',\n",
       " 'Realtor.com Real Estate: Homes for Sale and Rent',\n",
       " 'Red Bull TV: Live Sports, Music & Entertainment',\n",
       " 'Redfin Real Estate',\n",
       " 'Relax Meditation: Sleep with Sleep Sounds',\n",
       " 'Relax Melodies: Sleep Sounds',\n",
       " 'RetailMeNot - Coupons, Deals & Discount Shopping',\n",
       " 'Reuters News',\n",
       " 'Rider',\n",
       " 'Ringtone Maker',\n",
       " 'Robinhood - Investing, No Fees',\n",
       " 'Rosetta Stone: Learn to Speak & Read New Languages',\n",
       " 'Ruler',\n",
       " 'Run Sausage Run!',\n",
       " 'Run with Map My Run',\n",
       " 'Runkeeper - GPS Track Run Walk',\n",
       " 'Runtastic Running App & Mile Tracker',\n",
       " 'Runtastic Sleep Better: Sleep Cycle & Smart Alarm',\n",
       " 'SHAREit - Transfer & Share',\n",
       " 'SHOWTIME',\n",
       " 'SKOUT - Meet, Chat, Go Live',\n",
       " 'SONIC Drive-In',\n",
       " 'STARZ',\n",
       " 'SUBWAY®',\n",
       " 'Sago Mini Babies',\n",
       " 'Sago Mini Friends',\n",
       " 'SayHi Chat, Meet New People',\n",
       " 'Scarf Fashion Designer',\n",
       " 'School of Dragons',\n",
       " 'Score! Hero',\n",
       " 'ScriptSave WellRx Rx Discounts',\n",
       " 'Seven - 7 Minute Workout Training Challenge',\n",
       " 'Shadow Fight 2',\n",
       " 'Share Music & Transfer Files - Xender',\n",
       " 'Shopkick: Free Gift Cards, Shop Rewards & Deals',\n",
       " 'Shopkins World!',\n",
       " 'Shopular: Coupons, Weekly Ads & Shopping Deals',\n",
       " 'Showtime Anytime',\n",
       " 'Shutterfly: Free Prints, Photo Books, Cards, Gifts',\n",
       " 'SignEasy | Sign and Fill PDF and other Documents',\n",
       " 'Simple - Better Banking',\n",
       " 'Simple Habit Meditation',\n",
       " 'Six Pack in 30 Days - Abs Workout',\n",
       " 'Skype - free IM & video calls',\n",
       " 'Skyscanner',\n",
       " 'Slack',\n",
       " 'Slickdeals: Coupons & Shopping',\n",
       " 'Smart Launcher 5',\n",
       " 'Snapchat',\n",
       " 'SnipSnap Coupon App',\n",
       " 'Sniper 3D Gun Shooter: Free Shooting Games - FPS',\n",
       " 'Socratic - Math Answers & Homework Help',\n",
       " 'Solitaire',\n",
       " 'Sonic Dash',\n",
       " 'Sounds for Toddlers FREE',\n",
       " 'Southwest Airlines',\n",
       " 'Spanish English Translator',\n",
       " 'Starbucks',\n",
       " 'Stocard - Rewards Cards Wallet',\n",
       " 'Strawberry Shortcake BerryRush',\n",
       " 'Strawberry Shortcake Ice Cream Island',\n",
       " 'StyleSeat',\n",
       " 'Subway Surfers',\n",
       " 'Sudy – Meet Elite & Rich Single',\n",
       " 'Super ABC! Learning games for kids! Preschool apps',\n",
       " 'Super Hearing Super Ear Amplifier',\n",
       " 'Super Jim Jump - pixel 3d',\n",
       " 'Swamp Attack',\n",
       " 'Sway Medical',\n",
       " 'TED',\n",
       " 'TO-FU Oh!SUSHI',\n",
       " 'Tagged - Meet, Chat & Dating',\n",
       " 'Talkatone: Free Texts, Calls & Phone Number',\n",
       " 'Talking Ben the Dog',\n",
       " 'Talking Tom Gold Run',\n",
       " 'Talkray - Free Calls & Texts',\n",
       " 'Tango - Live Video Broadcast',\n",
       " 'Tapatalk - 100,000+ Forums',\n",
       " 'Target - now with Cartwheel',\n",
       " 'Tee and Mo Bath Time Free',\n",
       " 'Teladoc Member',\n",
       " 'Telegram',\n",
       " 'Telegram X',\n",
       " 'Telemundo Now',\n",
       " 'Temple Run 2',\n",
       " 'Text Free: WiFi Calling App',\n",
       " 'Text free - Free Text + Call',\n",
       " 'TextNow - free text + calls',\n",
       " 'Textgram - write on photos',\n",
       " 'The 5th Stand',\n",
       " 'The CW',\n",
       " 'The Coupons App',\n",
       " 'The Emirates App',\n",
       " 'The Game of Life',\n",
       " 'The NBC App - Watch Live TV and Full Episodes',\n",
       " 'The Sims™ FreePlay',\n",
       " 'The Wall Street Journal: Business & Market News',\n",
       " 'Thomas & Friends: Race On!',\n",
       " 'TickTick: To Do List with Reminder, Day Planner',\n",
       " 'Tiny Scanner - PDF Scanner App',\n",
       " 'Tiny Scanner Pro: PDF Doc Scan',\n",
       " 'To-Do Calendar Planner',\n",
       " 'Toca Kitchen 2',\n",
       " 'Toca Life: City',\n",
       " 'Todoist: To-do lists for task management & errands',\n",
       " 'Toon Blast',\n",
       " 'Topbuzz: Breaking News, Videos & Funny GIFs',\n",
       " 'Toy Blast',\n",
       " 'Traffic Racer',\n",
       " 'Transenger – Ts Dating and Chat for Free',\n",
       " 'Transit: Real-Time Transit App',\n",
       " 'TripAdvisor Hotels Flights Restaurants Attractions',\n",
       " 'Truecaller: Caller ID, SMS spam blocking & Dialer',\n",
       " 'Trulia Real Estate & Rentals',\n",
       " 'Trulia Rent Apartments & Homes',\n",
       " 'Tubi TV - Free Movies & TV',\n",
       " 'Tumblr',\n",
       " 'Turbo FAST',\n",
       " 'TurboScan: scan documents and receipts in PDF',\n",
       " 'Twitch: Livestream Multiplayer Games & Esports',\n",
       " 'Twitter',\n",
       " 'UC Browser - Fast Download Private & Secure',\n",
       " 'UC Browser Mini -Tiny Fast Private & Secure',\n",
       " 'UFC',\n",
       " 'UNICORN - Color By Number & Pixel Art Coloring',\n",
       " 'US Open Tennis Championships 2018',\n",
       " 'USA TODAY',\n",
       " 'Uber',\n",
       " 'Udacity - Lifelong Learning',\n",
       " 'Udemy - Online Courses',\n",
       " 'United Airlines',\n",
       " 'Univision NOW - Live TV and On Demand',\n",
       " 'VH1',\n",
       " 'VLC for Android',\n",
       " 'VPN Free - Betternet Hotspot VPN & Private Browser',\n",
       " 'Vaniday - Beauty Booking App',\n",
       " 'Vargo Anesthesia Mega App',\n",
       " 'Viber Messenger',\n",
       " 'Video Downloader',\n",
       " 'Video Editor',\n",
       " 'Video Player All Format',\n",
       " 'Vigo Video',\n",
       " 'Viki: Asian TV Dramas & Movies',\n",
       " 'WPS Office - Word, Docs, PDF, Note, Slide & Sheet',\n",
       " 'WWE',\n",
       " 'Walk with Map My Walk',\n",
       " 'Walmart',\n",
       " 'Wanelo Shopping',\n",
       " 'WatchESPN',\n",
       " 'Wattpad 📖 Free Books',\n",
       " 'Waze - GPS, Maps, Traffic Alerts & Live Navigation',\n",
       " 'We Heart It',\n",
       " 'WeChat',\n",
       " 'Weather by eltiempo.es',\n",
       " 'Web Browser for Android',\n",
       " 'Weight Loss Running by Verv',\n",
       " 'Weight Loss Tracker - RecStyle',\n",
       " 'Weight Watchers Mobile',\n",
       " 'Wells Fargo Daily Change',\n",
       " 'Wells Fargo Mobile',\n",
       " 'Wendy’s – Food and Offers',\n",
       " 'WhatsApp Business',\n",
       " 'WhatsApp Messenger',\n",
       " 'Wheretoget: Shop in style',\n",
       " 'Who',\n",
       " 'Who Viewed My Facebook Profile - Stalkers Visitors',\n",
       " 'Whoscall - Caller ID & Block',\n",
       " 'Wish - Shopping Made Fun',\n",
       " 'Word Search',\n",
       " 'Wordscapes',\n",
       " 'Workout Trainer: fitness coach',\n",
       " 'Wunderlist: To-Do List & Tasks',\n",
       " 'Xero Accounting Software',\n",
       " 'Yahoo Fantasy Sports - #1 Rated Fantasy App',\n",
       " 'Yahoo Mail – Stay Organized',\n",
       " 'Yahoo Sports - scores, stats, news, & highlights',\n",
       " 'Yandex Browser with Protect',\n",
       " 'YouCam Makeup - Magic Selfie Makeovers',\n",
       " 'YouCam Perfect - Selfie Photo Editor',\n",
       " 'YouTube',\n",
       " 'YouTube Gaming',\n",
       " 'YouTube Kids',\n",
       " 'YouTube Studio',\n",
       " 'Youper - AI Therapy',\n",
       " 'Z Camera - Photo Editor, Beauty Selfie, Collage',\n",
       " 'ZALORA Fashion Shopping',\n",
       " 'ZEDGE™ Ringtones & Wallpapers',\n",
       " 'ZOOM Cloud Meetings',\n",
       " 'Zappos – Shoe shopping made simple',\n",
       " 'Zara',\n",
       " 'Zello PTT Walkie Talkie',\n",
       " 'Zenefits',\n",
       " 'Zillow: Find Houses for Sale & Apartments for Rent',\n",
       " 'Zomato - Restaurant Finder and Food Delivery App',\n",
       " 'Zombie Catchers',\n",
       " 'Zombie Hunter King',\n",
       " 'Zombie Tsunami',\n",
       " 'Zoosk Dating App: Meet Singles',\n",
       " 'ai.type Free Emoji Keyboard',\n",
       " 'busuu: Learn Languages - Spanish, English & More',\n",
       " 'eBay: Buy & Sell this Summer - Discover Deals Now!',\n",
       " 'edX - Online Courses by Harvard, MIT & more',\n",
       " \"fred's Pharmacy\",\n",
       " 'free video calls and chat',\n",
       " 'iBP Blood Pressure',\n",
       " 'iPair-Meet, Chat, Dating',\n",
       " 'imo beta free calls and text',\n",
       " 'imo free video calls and chat',\n",
       " 'join.me - Simple Meetings',\n",
       " 'letgo: Buy & Sell Used Stuff, Cars & Real Estate',\n",
       " 'muzmatch: Muslim & Arab Singles, Marriage & Dating',\n",
       " 'myAT&T',\n",
       " 'mySugr: the blood sugar tracker made just for you',\n",
       " 'ooVoo Video Calls, Messaging & Stories',\n",
       " 'osmino Wi-Fi: free WiFi',\n",
       " 'realestate.com.au - Buy, Rent & Sell Property',\n",
       " 'slither.io',\n",
       " 'stranger chat - anonymous chat',\n",
       " 'textPlus: Free Text & Calls',\n",
       " 'theScore: Live Sports Scores, News, Stats & Videos',\n",
       " 'trivago: Hotels & Travel',\n",
       " 'wetter.com - Weather and Radar'}"
      ]
     },
     "execution_count": 16,
     "metadata": {},
     "output_type": "execute_result"
    }
   ],
   "source": [
    "# Names of duplicate apps\n",
    "set(dups['App'])"
   ]
  },
  {
   "cell_type": "code",
   "execution_count": 17,
   "metadata": {},
   "outputs": [
    {
     "data": {
      "text/html": [
       "<div>\n",
       "<style scoped>\n",
       "    .dataframe tbody tr th:only-of-type {\n",
       "        vertical-align: middle;\n",
       "    }\n",
       "\n",
       "    .dataframe tbody tr th {\n",
       "        vertical-align: top;\n",
       "    }\n",
       "\n",
       "    .dataframe thead th {\n",
       "        text-align: right;\n",
       "    }\n",
       "</style>\n",
       "<table border=\"1\" class=\"dataframe\">\n",
       "  <thead>\n",
       "    <tr style=\"text-align: right;\">\n",
       "      <th></th>\n",
       "      <th>App</th>\n",
       "      <th>Category</th>\n",
       "      <th>Rating</th>\n",
       "      <th>Reviews</th>\n",
       "      <th>Size</th>\n",
       "      <th>Installs</th>\n",
       "      <th>Type</th>\n",
       "      <th>Price</th>\n",
       "      <th>Content Rating</th>\n",
       "      <th>Genres</th>\n",
       "      <th>Last Updated</th>\n",
       "      <th>Current Ver</th>\n",
       "      <th>Android Ver</th>\n",
       "    </tr>\n",
       "  </thead>\n",
       "  <tbody>\n",
       "    <tr>\n",
       "      <td>1947</td>\n",
       "      <td>Agar.io</td>\n",
       "      <td>GAME</td>\n",
       "      <td>4.2</td>\n",
       "      <td>3816799</td>\n",
       "      <td>32M</td>\n",
       "      <td>100,000,000+</td>\n",
       "      <td>Free</td>\n",
       "      <td>0</td>\n",
       "      <td>Everyone</td>\n",
       "      <td>Action</td>\n",
       "      <td>July 23, 2018</td>\n",
       "      <td>2.2.8</td>\n",
       "      <td>4.0.3 and up</td>\n",
       "    </tr>\n",
       "    <tr>\n",
       "      <td>3880</td>\n",
       "      <td>Agar.io</td>\n",
       "      <td>GAME</td>\n",
       "      <td>4.2</td>\n",
       "      <td>3815614</td>\n",
       "      <td>32M</td>\n",
       "      <td>100,000,000+</td>\n",
       "      <td>Free</td>\n",
       "      <td>0</td>\n",
       "      <td>Everyone</td>\n",
       "      <td>Action</td>\n",
       "      <td>July 23, 2018</td>\n",
       "      <td>2.2.8</td>\n",
       "      <td>4.0.3 and up</td>\n",
       "    </tr>\n",
       "  </tbody>\n",
       "</table>\n",
       "</div>"
      ],
      "text/plain": [
       "          App Category  Rating  Reviews Size      Installs  Type Price  \\\n",
       "1947  Agar.io     GAME     4.2  3816799  32M  100,000,000+  Free     0   \n",
       "3880  Agar.io     GAME     4.2  3815614  32M  100,000,000+  Free     0   \n",
       "\n",
       "     Content Rating  Genres   Last Updated Current Ver   Android Ver  \n",
       "1947       Everyone  Action  July 23, 2018       2.2.8  4.0.3 and up  \n",
       "3880       Everyone  Action  July 23, 2018       2.2.8  4.0.3 and up  "
      ]
     },
     "execution_count": 17,
     "metadata": {},
     "output_type": "execute_result"
    }
   ],
   "source": [
    "\n",
    "dups[dups['App']=='Agar.io']"
   ]
  },
  {
   "cell_type": "markdown",
   "metadata": {},
   "source": [
    " "
   ]
  },
  {
   "cell_type": "markdown",
   "metadata": {},
   "source": [
    "As we can see, there is quite a lot of similarity in the two rows except in the reviews column.  \n",
    "Row number *1947* has more number of reviews than row number *3880*. This could mean that the data in row number *1947* is more recent.  \n",
    "We can use this information as a criteria for removing the duplicate data so that the most recent data can be retained."
   ]
  },
  {
   "cell_type": "code",
   "execution_count": 18,
   "metadata": {},
   "outputs": [],
   "source": [
    "# Making a copy of the original dataset so that any error in the copy dataset will not affect the original dataset\n",
    "gg1 = gg.copy()"
   ]
  },
  {
   "cell_type": "markdown",
   "metadata": {},
   "source": [
    "The following loop is used to remove the duplicate rows that have reviews less than the highest number of reviews given to a particular app."
   ]
  },
  {
   "cell_type": "code",
   "execution_count": 19,
   "metadata": {},
   "outputs": [],
   "source": [
    "# Dropping the duplicate rows of an app whose count of reviews is less than the max number of reviews given to the app.\n",
    "for i in range(len(duplicate_apps)):\n",
    "    dup = duplicate_apps[i]\n",
    "    max1 = gg1[gg1['App']==dup]\n",
    "    max2 = max1['Reviews'].max()\n",
    "    gg1.drop(gg1[(gg1['App']==dup)&(gg1['Reviews']<max2)].index,inplace=True)"
   ]
  },
  {
   "cell_type": "code",
   "execution_count": 20,
   "metadata": {},
   "outputs": [
    {
     "data": {
      "text/plain": [
       "(10056, 13)"
      ]
     },
     "execution_count": 20,
     "metadata": {},
     "output_type": "execute_result"
    }
   ],
   "source": [
    "gg1.shape"
   ]
  },
  {
   "cell_type": "markdown",
   "metadata": {},
   "source": [
    "As mentioned above, there are a total of 1979 duplicate rows. However, one row for each app, which has the highest number of reviews must be retained to reduce the loss of data. Therefore, the actual reduction in the number of rows would be: *1979-798 = 1181*. Hence, the number of rows that are left are: *10841-1181 = 9660*"
   ]
  },
  {
   "cell_type": "code",
   "execution_count": 21,
   "metadata": {},
   "outputs": [
    {
     "data": {
      "text/plain": [
       "(10056, 13)"
      ]
     },
     "execution_count": 21,
     "metadata": {},
     "output_type": "execute_result"
    }
   ],
   "source": [
    "gg1.shape"
   ]
  },
  {
   "cell_type": "markdown",
   "metadata": {},
   "source": [
    "As we can see that the number of rows in the dataset is still more than the required number of rows. This could mean that there are still duplicate data in the dataset"
   ]
  },
  {
   "cell_type": "code",
   "execution_count": 22,
   "metadata": {},
   "outputs": [],
   "source": [
    "dup2 = gg1['App'].value_counts()[gg1['App'].value_counts()>1]"
   ]
  },
  {
   "cell_type": "code",
   "execution_count": 23,
   "metadata": {},
   "outputs": [],
   "source": [
    "duplicate_apps2 = list(dup2.index)"
   ]
  },
  {
   "cell_type": "code",
   "execution_count": 24,
   "metadata": {},
   "outputs": [
    {
     "data": {
      "text/plain": [
       "337"
      ]
     },
     "execution_count": 24,
     "metadata": {},
     "output_type": "execute_result"
    }
   ],
   "source": [
    "len(duplicate_apps2)"
   ]
  },
  {
   "cell_type": "code",
   "execution_count": 25,
   "metadata": {},
   "outputs": [
    {
     "data": {
      "text/html": [
       "<div>\n",
       "<style scoped>\n",
       "    .dataframe tbody tr th:only-of-type {\n",
       "        vertical-align: middle;\n",
       "    }\n",
       "\n",
       "    .dataframe tbody tr th {\n",
       "        vertical-align: top;\n",
       "    }\n",
       "\n",
       "    .dataframe thead th {\n",
       "        text-align: right;\n",
       "    }\n",
       "</style>\n",
       "<table border=\"1\" class=\"dataframe\">\n",
       "  <thead>\n",
       "    <tr style=\"text-align: right;\">\n",
       "      <th></th>\n",
       "      <th>App</th>\n",
       "      <th>Category</th>\n",
       "      <th>Rating</th>\n",
       "      <th>Reviews</th>\n",
       "      <th>Size</th>\n",
       "      <th>Installs</th>\n",
       "      <th>Type</th>\n",
       "      <th>Price</th>\n",
       "      <th>Content Rating</th>\n",
       "      <th>Genres</th>\n",
       "      <th>Last Updated</th>\n",
       "      <th>Current Ver</th>\n",
       "      <th>Android Ver</th>\n",
       "    </tr>\n",
       "  </thead>\n",
       "  <tbody>\n",
       "    <tr>\n",
       "      <td>164</td>\n",
       "      <td>Ebook Reader</td>\n",
       "      <td>BOOKS_AND_REFERENCE</td>\n",
       "      <td>4.1</td>\n",
       "      <td>85842</td>\n",
       "      <td>37M</td>\n",
       "      <td>5,000,000+</td>\n",
       "      <td>Free</td>\n",
       "      <td>0</td>\n",
       "      <td>Everyone</td>\n",
       "      <td>Books &amp; Reference</td>\n",
       "      <td>June 25, 2018</td>\n",
       "      <td>5.0.6</td>\n",
       "      <td>4.0 and up</td>\n",
       "    </tr>\n",
       "    <tr>\n",
       "      <td>192</td>\n",
       "      <td>Docs To Go™ Free Office Suite</td>\n",
       "      <td>BUSINESS</td>\n",
       "      <td>4.1</td>\n",
       "      <td>217730</td>\n",
       "      <td>Varies with device</td>\n",
       "      <td>50,000,000+</td>\n",
       "      <td>Free</td>\n",
       "      <td>0</td>\n",
       "      <td>Everyone</td>\n",
       "      <td>Business</td>\n",
       "      <td>April 2, 2018</td>\n",
       "      <td>Varies with device</td>\n",
       "      <td>Varies with device</td>\n",
       "    </tr>\n",
       "    <tr>\n",
       "      <td>193</td>\n",
       "      <td>Google My Business</td>\n",
       "      <td>BUSINESS</td>\n",
       "      <td>4.4</td>\n",
       "      <td>70991</td>\n",
       "      <td>Varies with device</td>\n",
       "      <td>5,000,000+</td>\n",
       "      <td>Free</td>\n",
       "      <td>0</td>\n",
       "      <td>Everyone</td>\n",
       "      <td>Business</td>\n",
       "      <td>July 24, 2018</td>\n",
       "      <td>2.19.0.204537701</td>\n",
       "      <td>4.4 and up</td>\n",
       "    </tr>\n",
       "    <tr>\n",
       "      <td>204</td>\n",
       "      <td>Box</td>\n",
       "      <td>BUSINESS</td>\n",
       "      <td>4.2</td>\n",
       "      <td>159872</td>\n",
       "      <td>Varies with device</td>\n",
       "      <td>10,000,000+</td>\n",
       "      <td>Free</td>\n",
       "      <td>0</td>\n",
       "      <td>Everyone</td>\n",
       "      <td>Business</td>\n",
       "      <td>July 31, 2018</td>\n",
       "      <td>Varies with device</td>\n",
       "      <td>Varies with device</td>\n",
       "    </tr>\n",
       "    <tr>\n",
       "      <td>213</td>\n",
       "      <td>ZOOM Cloud Meetings</td>\n",
       "      <td>BUSINESS</td>\n",
       "      <td>4.4</td>\n",
       "      <td>31614</td>\n",
       "      <td>37M</td>\n",
       "      <td>10,000,000+</td>\n",
       "      <td>Free</td>\n",
       "      <td>0</td>\n",
       "      <td>Everyone</td>\n",
       "      <td>Business</td>\n",
       "      <td>July 20, 2018</td>\n",
       "      <td>4.1.28165.0716</td>\n",
       "      <td>4.0 and up</td>\n",
       "    </tr>\n",
       "    <tr>\n",
       "      <td>...</td>\n",
       "      <td>...</td>\n",
       "      <td>...</td>\n",
       "      <td>...</td>\n",
       "      <td>...</td>\n",
       "      <td>...</td>\n",
       "      <td>...</td>\n",
       "      <td>...</td>\n",
       "      <td>...</td>\n",
       "      <td>...</td>\n",
       "      <td>...</td>\n",
       "      <td>...</td>\n",
       "      <td>...</td>\n",
       "      <td>...</td>\n",
       "    </tr>\n",
       "    <tr>\n",
       "      <td>8654</td>\n",
       "      <td>TickTick: To Do List with Reminder, Day Planner</td>\n",
       "      <td>PRODUCTIVITY</td>\n",
       "      <td>4.6</td>\n",
       "      <td>25370</td>\n",
       "      <td>Varies with device</td>\n",
       "      <td>1,000,000+</td>\n",
       "      <td>Free</td>\n",
       "      <td>0</td>\n",
       "      <td>Everyone</td>\n",
       "      <td>Productivity</td>\n",
       "      <td>August 6, 2018</td>\n",
       "      <td>Varies with device</td>\n",
       "      <td>Varies with device</td>\n",
       "    </tr>\n",
       "    <tr>\n",
       "      <td>8658</td>\n",
       "      <td>ColorNote Notepad Notes</td>\n",
       "      <td>PRODUCTIVITY</td>\n",
       "      <td>4.6</td>\n",
       "      <td>2401017</td>\n",
       "      <td>Varies with device</td>\n",
       "      <td>100,000,000+</td>\n",
       "      <td>Free</td>\n",
       "      <td>0</td>\n",
       "      <td>Everyone</td>\n",
       "      <td>Productivity</td>\n",
       "      <td>June 27, 2018</td>\n",
       "      <td>Varies with device</td>\n",
       "      <td>Varies with device</td>\n",
       "    </tr>\n",
       "    <tr>\n",
       "      <td>10049</td>\n",
       "      <td>Airway Ex - Intubate. Anesthetize. Train.</td>\n",
       "      <td>MEDICAL</td>\n",
       "      <td>4.3</td>\n",
       "      <td>123</td>\n",
       "      <td>86M</td>\n",
       "      <td>10,000+</td>\n",
       "      <td>Free</td>\n",
       "      <td>0</td>\n",
       "      <td>Everyone</td>\n",
       "      <td>Medical</td>\n",
       "      <td>June 1, 2018</td>\n",
       "      <td>0.6.88</td>\n",
       "      <td>5.0 and up</td>\n",
       "    </tr>\n",
       "    <tr>\n",
       "      <td>10473</td>\n",
       "      <td>osmino Wi-Fi: free WiFi</td>\n",
       "      <td>TOOLS</td>\n",
       "      <td>4.2</td>\n",
       "      <td>134203</td>\n",
       "      <td>4.1M</td>\n",
       "      <td>10,000,000+</td>\n",
       "      <td>Free</td>\n",
       "      <td>0</td>\n",
       "      <td>Everyone</td>\n",
       "      <td>Tools</td>\n",
       "      <td>August 7, 2018</td>\n",
       "      <td>6.06.14</td>\n",
       "      <td>4.4 and up</td>\n",
       "    </tr>\n",
       "    <tr>\n",
       "      <td>10768</td>\n",
       "      <td>AAFP</td>\n",
       "      <td>MEDICAL</td>\n",
       "      <td>3.8</td>\n",
       "      <td>63</td>\n",
       "      <td>24M</td>\n",
       "      <td>10,000+</td>\n",
       "      <td>Free</td>\n",
       "      <td>0</td>\n",
       "      <td>Everyone</td>\n",
       "      <td>Medical</td>\n",
       "      <td>June 22, 2018</td>\n",
       "      <td>2.3.1</td>\n",
       "      <td>5.0 and up</td>\n",
       "    </tr>\n",
       "  </tbody>\n",
       "</table>\n",
       "<p>733 rows × 13 columns</p>\n",
       "</div>"
      ],
      "text/plain": [
       "                                                   App             Category  \\\n",
       "164                                       Ebook Reader  BOOKS_AND_REFERENCE   \n",
       "192                      Docs To Go™ Free Office Suite             BUSINESS   \n",
       "193                                 Google My Business             BUSINESS   \n",
       "204                                                Box             BUSINESS   \n",
       "213                                ZOOM Cloud Meetings             BUSINESS   \n",
       "...                                                ...                  ...   \n",
       "8654   TickTick: To Do List with Reminder, Day Planner         PRODUCTIVITY   \n",
       "8658                           ColorNote Notepad Notes         PRODUCTIVITY   \n",
       "10049        Airway Ex - Intubate. Anesthetize. Train.              MEDICAL   \n",
       "10473                          osmino Wi-Fi: free WiFi                TOOLS   \n",
       "10768                                             AAFP              MEDICAL   \n",
       "\n",
       "       Rating  Reviews                Size      Installs  Type Price  \\\n",
       "164       4.1    85842                 37M    5,000,000+  Free     0   \n",
       "192       4.1   217730  Varies with device   50,000,000+  Free     0   \n",
       "193       4.4    70991  Varies with device    5,000,000+  Free     0   \n",
       "204       4.2   159872  Varies with device   10,000,000+  Free     0   \n",
       "213       4.4    31614                 37M   10,000,000+  Free     0   \n",
       "...       ...      ...                 ...           ...   ...   ...   \n",
       "8654      4.6    25370  Varies with device    1,000,000+  Free     0   \n",
       "8658      4.6  2401017  Varies with device  100,000,000+  Free     0   \n",
       "10049     4.3      123                 86M       10,000+  Free     0   \n",
       "10473     4.2   134203                4.1M   10,000,000+  Free     0   \n",
       "10768     3.8       63                 24M       10,000+  Free     0   \n",
       "\n",
       "      Content Rating             Genres    Last Updated         Current Ver  \\\n",
       "164         Everyone  Books & Reference   June 25, 2018               5.0.6   \n",
       "192         Everyone           Business   April 2, 2018  Varies with device   \n",
       "193         Everyone           Business   July 24, 2018    2.19.0.204537701   \n",
       "204         Everyone           Business   July 31, 2018  Varies with device   \n",
       "213         Everyone           Business   July 20, 2018      4.1.28165.0716   \n",
       "...              ...                ...             ...                 ...   \n",
       "8654        Everyone       Productivity  August 6, 2018  Varies with device   \n",
       "8658        Everyone       Productivity   June 27, 2018  Varies with device   \n",
       "10049       Everyone            Medical    June 1, 2018              0.6.88   \n",
       "10473       Everyone              Tools  August 7, 2018             6.06.14   \n",
       "10768       Everyone            Medical   June 22, 2018               2.3.1   \n",
       "\n",
       "              Android Ver  \n",
       "164            4.0 and up  \n",
       "192    Varies with device  \n",
       "193            4.4 and up  \n",
       "204    Varies with device  \n",
       "213            4.0 and up  \n",
       "...                   ...  \n",
       "8654   Varies with device  \n",
       "8658   Varies with device  \n",
       "10049          5.0 and up  \n",
       "10473          4.4 and up  \n",
       "10768          5.0 and up  \n",
       "\n",
       "[733 rows x 13 columns]"
      ]
     },
     "execution_count": 25,
     "metadata": {},
     "output_type": "execute_result"
    }
   ],
   "source": [
    "gg1[gg1['App'].isin(duplicate_apps2)]"
   ]
  },
  {
   "cell_type": "markdown",
   "metadata": {},
   "source": [
    "As suspected, there are 733 duplicate rows of 337 apps in the dataset."
   ]
  },
  {
   "cell_type": "code",
   "execution_count": 26,
   "metadata": {},
   "outputs": [
    {
     "data": {
      "text/plain": [
       "337"
      ]
     },
     "execution_count": 26,
     "metadata": {},
     "output_type": "execute_result"
    }
   ],
   "source": [
    "len(dup2)"
   ]
  },
  {
   "cell_type": "code",
   "execution_count": 27,
   "metadata": {},
   "outputs": [
    {
     "data": {
      "text/plain": [
       "Google Keep                                           4\n",
       "WatchESPN                                             4\n",
       "Skyscanner                                            4\n",
       "Quizlet: Learn Languages & Vocab with Flashcards      4\n",
       "eBay: Buy & Sell this Summer - Discover Deals Now!    4\n",
       "                                                     ..\n",
       "Fuzzy Numbers: Pre-K Number Foundation                2\n",
       "Udacity - Lifelong Learning                           2\n",
       "MailChimp - Email, Marketing Automation               2\n",
       "Honkai Impact 3rd                                     2\n",
       "LINE: Free Calls & Messages                           2\n",
       "Name: App, Length: 337, dtype: int64"
      ]
     },
     "execution_count": 27,
     "metadata": {},
     "output_type": "execute_result"
    }
   ],
   "source": [
    "dup2"
   ]
  },
  {
   "cell_type": "code",
   "execution_count": 28,
   "metadata": {
    "scrolled": true
   },
   "outputs": [
    {
     "data": {
      "text/html": [
       "<div>\n",
       "<style scoped>\n",
       "    .dataframe tbody tr th:only-of-type {\n",
       "        vertical-align: middle;\n",
       "    }\n",
       "\n",
       "    .dataframe tbody tr th {\n",
       "        vertical-align: top;\n",
       "    }\n",
       "\n",
       "    .dataframe thead th {\n",
       "        text-align: right;\n",
       "    }\n",
       "</style>\n",
       "<table border=\"1\" class=\"dataframe\">\n",
       "  <thead>\n",
       "    <tr style=\"text-align: right;\">\n",
       "      <th></th>\n",
       "      <th>App</th>\n",
       "      <th>Category</th>\n",
       "      <th>Rating</th>\n",
       "      <th>Reviews</th>\n",
       "      <th>Size</th>\n",
       "      <th>Installs</th>\n",
       "      <th>Type</th>\n",
       "      <th>Price</th>\n",
       "      <th>Content Rating</th>\n",
       "      <th>Genres</th>\n",
       "      <th>Last Updated</th>\n",
       "      <th>Current Ver</th>\n",
       "      <th>Android Ver</th>\n",
       "    </tr>\n",
       "  </thead>\n",
       "  <tbody>\n",
       "    <tr>\n",
       "      <td>3016</td>\n",
       "      <td>WatchESPN</td>\n",
       "      <td>SPORTS</td>\n",
       "      <td>4.1</td>\n",
       "      <td>288809</td>\n",
       "      <td>6.6M</td>\n",
       "      <td>10,000,000+</td>\n",
       "      <td>Free</td>\n",
       "      <td>0</td>\n",
       "      <td>Everyone</td>\n",
       "      <td>Sports</td>\n",
       "      <td>September 27, 2017</td>\n",
       "      <td>2.5.1</td>\n",
       "      <td>4.4 and up</td>\n",
       "    </tr>\n",
       "    <tr>\n",
       "      <td>3022</td>\n",
       "      <td>WatchESPN</td>\n",
       "      <td>SPORTS</td>\n",
       "      <td>4.1</td>\n",
       "      <td>288809</td>\n",
       "      <td>6.6M</td>\n",
       "      <td>10,000,000+</td>\n",
       "      <td>Free</td>\n",
       "      <td>0</td>\n",
       "      <td>Everyone</td>\n",
       "      <td>Sports</td>\n",
       "      <td>September 27, 2017</td>\n",
       "      <td>2.5.1</td>\n",
       "      <td>4.4 and up</td>\n",
       "    </tr>\n",
       "    <tr>\n",
       "      <td>3067</td>\n",
       "      <td>WatchESPN</td>\n",
       "      <td>SPORTS</td>\n",
       "      <td>4.1</td>\n",
       "      <td>288809</td>\n",
       "      <td>6.6M</td>\n",
       "      <td>10,000,000+</td>\n",
       "      <td>Free</td>\n",
       "      <td>0</td>\n",
       "      <td>Everyone</td>\n",
       "      <td>Sports</td>\n",
       "      <td>September 27, 2017</td>\n",
       "      <td>2.5.1</td>\n",
       "      <td>4.4 and up</td>\n",
       "    </tr>\n",
       "    <tr>\n",
       "      <td>3094</td>\n",
       "      <td>WatchESPN</td>\n",
       "      <td>SPORTS</td>\n",
       "      <td>4.1</td>\n",
       "      <td>288809</td>\n",
       "      <td>6.6M</td>\n",
       "      <td>10,000,000+</td>\n",
       "      <td>Free</td>\n",
       "      <td>0</td>\n",
       "      <td>Everyone</td>\n",
       "      <td>Sports</td>\n",
       "      <td>September 27, 2017</td>\n",
       "      <td>2.5.1</td>\n",
       "      <td>4.4 and up</td>\n",
       "    </tr>\n",
       "  </tbody>\n",
       "</table>\n",
       "</div>"
      ],
      "text/plain": [
       "            App Category  Rating Reviews  Size     Installs  Type Price  \\\n",
       "3016  WatchESPN   SPORTS     4.1  288809  6.6M  10,000,000+  Free     0   \n",
       "3022  WatchESPN   SPORTS     4.1  288809  6.6M  10,000,000+  Free     0   \n",
       "3067  WatchESPN   SPORTS     4.1  288809  6.6M  10,000,000+  Free     0   \n",
       "3094  WatchESPN   SPORTS     4.1  288809  6.6M  10,000,000+  Free     0   \n",
       "\n",
       "     Content Rating  Genres        Last Updated Current Ver Android Ver  \n",
       "3016       Everyone  Sports  September 27, 2017       2.5.1  4.4 and up  \n",
       "3022       Everyone  Sports  September 27, 2017       2.5.1  4.4 and up  \n",
       "3067       Everyone  Sports  September 27, 2017       2.5.1  4.4 and up  \n",
       "3094       Everyone  Sports  September 27, 2017       2.5.1  4.4 and up  "
      ]
     },
     "execution_count": 28,
     "metadata": {},
     "output_type": "execute_result"
    }
   ],
   "source": [
    "# checking the rows of one of the apps for which duplicate data is present.\n",
    "gg1[gg1['App']=='WatchESPN']"
   ]
  },
  {
   "cell_type": "markdown",
   "metadata": {},
   "source": [
    "Here, we can see that the rows are a complete duplicate of each other. therefore, we can retain any one row for each app and discard the rest."
   ]
  },
  {
   "cell_type": "code",
   "execution_count": 29,
   "metadata": {},
   "outputs": [],
   "source": [
    "# Dropping duplicate rows of the same app where the number of reviews are also the same\n",
    "gg1.drop_duplicates(subset='App',keep='first',inplace=True)"
   ]
  },
  {
   "cell_type": "code",
   "execution_count": 30,
   "metadata": {},
   "outputs": [
    {
     "data": {
      "text/plain": [
       "(9660, 13)"
      ]
     },
     "execution_count": 30,
     "metadata": {},
     "output_type": "execute_result"
    }
   ],
   "source": [
    "gg1.shape"
   ]
  },
  {
   "cell_type": "code",
   "execution_count": 31,
   "metadata": {},
   "outputs": [
    {
     "data": {
      "text/plain": [
       "9660"
      ]
     },
     "execution_count": 31,
     "metadata": {},
     "output_type": "execute_result"
    }
   ],
   "source": [
    "len(gg1['App'].unique())"
   ]
  },
  {
   "cell_type": "markdown",
   "metadata": {},
   "source": [
    "As the scope of the dataset is limited to apps that have english names, apps that have non-english names will be removed.  \n",
    "To check the names of such apps, we will check the ASCII values of each character in name of an app.  \n",
    "The **ASCII** values of the english alphabet ranges from *0 to 127*.  \n",
    "Any app which has a character whose ASCII value does not lie in this range will be removed.  \n",
    "It is possible that an app may have an english name but it may have characters whose ASCII values that do not fall in the above mentioned range. Therefore, all apps that have more than 3 characters whose ASCII values are not in this range will be removed."
   ]
  },
  {
   "cell_type": "code",
   "execution_count": 32,
   "metadata": {
    "scrolled": true
   },
   "outputs": [
    {
     "name": "stdout",
     "output_type": "stream",
     "text": [
      "Flame - درب عقلك يوميا\n",
      "သိင်္ Astrology - Min Thein Kha BayDin\n",
      "РИА Новости\n",
      "صور حرف H\n",
      "L.POINT - 엘포인트 [ 포인트, 멤버십, 적립, 사용, 모바일 카드, 쿠폰, 롯데]\n",
      "RMEduS - 음성인식을 활용한 R 프로그래밍 실습 시스템\n",
      "AJ렌터카 법인 카셰어링\n",
      "Al Quran Free - القرآن (Islam)\n",
      "中国語 AQリスニング\n",
      "日本AV历史\n",
      "Ay Yıldız Duvar Kağıtları\n",
      "বাংলা টিভি প্রো BD Bangla TV\n",
      "Cъновник BG\n",
      "CSCS BG (в български)\n",
      "뽕티비 - 개인방송, 인터넷방송, BJ방송\n",
      "BL 女性向け恋愛ゲーム◆俺プリクロス\n",
      "SecondSecret ‐「恋を読む」BLノベルゲーム‐\n",
      "BL 女性向け恋愛ゲーム◆ごくメン\n",
      "あなカレ【BL】無料ゲーム\n",
      "감성학원 BL 첫사랑\n",
      "BQ-መጽሐፍ ቅዱሳዊ ጥያቄዎች\n",
      "BS Calendar / Patro / पात्रो\n",
      "Vip视频免费看-BT磁力搜索\n",
      "Билеты ПДД CD 2019 PRO\n",
      "Offline Jízdní řády CG Transit\n",
      "Bonjour 2017 Abidjan CI ❤❤❤❤❤\n",
      "CK 初一 十五\n",
      "الفاتحون Conquerors\n",
      "DG ग्राम / Digital Gram Panchayat\n",
      "DM הפקות\n",
      "DW فارسی By dw-arab.com\n",
      "لعبة تقدر تربح DZ\n",
      "বাংলাflix\n",
      "RPG ブレイジング ソウルズ アクセレイト\n",
      "英漢字典 EC Dictionary\n",
      "ECナビ×シュフー\n",
      "أحداث وحقائق | خبر عاجل في اخبار العالم\n",
      "EG SIM CARD (EGSIMCARD, 이지심카드)\n",
      "パーリーゲイツ公式通販｜EJ STYLE（イージェイスタイル）\n",
      "FAHREDDİN er-RÂZİ TEFSİRİ\n",
      "I'm Rich/Eu sou Rico/أنا غني/我很有錢\n",
      "AÖF Ev İdaresi 1. Sınıf\n",
      "Ey Sey Storytime រឿងនិទានតាឥសី\n",
      "哈哈姆特不EY\n",
      "FP Разбитый дисплей\n",
      "count: 45\n"
     ]
    }
   ],
   "source": [
    "# Counting the number of apps that have a non-english name in the gg dataset\n",
    "count = 0\n",
    "for i in range(gg1.shape[0]):\n",
    "    name = gg1['App'].iloc[i]\n",
    "    cnt = 0\n",
    "    for j in name:\n",
    "        if((ord(j)>127) or (ord(j)<0)):\n",
    "            cnt+=1\n",
    "            if(cnt>3):\n",
    "                print(name)\n",
    "                count+=1\n",
    "                break\n",
    "\n",
    "        else:\n",
    "            continue\n",
    "            \n",
    "print('count:',count)"
   ]
  },
  {
   "cell_type": "markdown",
   "metadata": {},
   "source": [
    "There are 45 apps that have non-english names. These apps will be removed from the dataset."
   ]
  },
  {
   "cell_type": "code",
   "execution_count": 33,
   "metadata": {
    "scrolled": true
   },
   "outputs": [
    {
     "name": "stdout",
     "output_type": "stream",
     "text": [
      "count: 45\n"
     ]
    }
   ],
   "source": [
    "# Dropping the rows that have apps that have a non-english name in the gg dataset\n",
    "count = 0\n",
    "i = gg1.shape[0]-1\n",
    "while i > 0:\n",
    "    cnt = 0\n",
    "    name = gg1['App'].iloc[i]\n",
    "    \n",
    "    for j in name:\n",
    "        if((ord(j)>127) or (ord(j)<0)):\n",
    "            cnt+=1\n",
    "            if(cnt>3):\n",
    "                gg1.drop((gg1[gg1['App']==name]).index,inplace=True)\n",
    "                gg1.reset_index(drop=True,inplace=True)\n",
    "                count+=1\n",
    "                break\n",
    "\n",
    "    i-=1\n",
    "            \n",
    "print('count:',count)"
   ]
  },
  {
   "cell_type": "code",
   "execution_count": 34,
   "metadata": {},
   "outputs": [
    {
     "data": {
      "text/plain": [
       "9615"
      ]
     },
     "execution_count": 34,
     "metadata": {},
     "output_type": "execute_result"
    }
   ],
   "source": [
    "# The number of rows that should be left after removal of these apps will be:\n",
    "9660-45"
   ]
  },
  {
   "cell_type": "code",
   "execution_count": 35,
   "metadata": {},
   "outputs": [
    {
     "data": {
      "text/plain": [
       "(9615, 13)"
      ]
     },
     "execution_count": 35,
     "metadata": {},
     "output_type": "execute_result"
    }
   ],
   "source": [
    "gg1.shape"
   ]
  },
  {
   "cell_type": "markdown",
   "metadata": {},
   "source": [
    "After removing the duplicate data, the apps which are not free of cost will be removed."
   ]
  },
  {
   "cell_type": "code",
   "execution_count": 36,
   "metadata": {},
   "outputs": [
    {
     "data": {
      "text/plain": [
       "Index(['App', 'Category', 'Rating', 'Reviews', 'Size', 'Installs', 'Type',\n",
       "       'Price', 'Content Rating', 'Genres', 'Last Updated', 'Current Ver',\n",
       "       'Android Ver'],\n",
       "      dtype='object')"
      ]
     },
     "execution_count": 36,
     "metadata": {},
     "output_type": "execute_result"
    }
   ],
   "source": [
    "# Removing the apps which are not free.\n",
    "\n",
    "gg1.columns"
   ]
  },
  {
   "cell_type": "code",
   "execution_count": 37,
   "metadata": {},
   "outputs": [
    {
     "data": {
      "text/plain": [
       "dtype('O')"
      ]
     },
     "execution_count": 37,
     "metadata": {},
     "output_type": "execute_result"
    }
   ],
   "source": [
    "(gg1['Price'].dtype)"
   ]
  },
  {
   "cell_type": "code",
   "execution_count": 38,
   "metadata": {},
   "outputs": [],
   "source": [
    "price = gg1['Price'].copy()"
   ]
  },
  {
   "cell_type": "code",
   "execution_count": 39,
   "metadata": {},
   "outputs": [],
   "source": [
    "# Removing the dollar sign so that the column can be coverted to a numeric data type.\n",
    "price = price.str.lstrip('$')"
   ]
  },
  {
   "cell_type": "code",
   "execution_count": 40,
   "metadata": {},
   "outputs": [
    {
     "data": {
      "text/plain": [
       "218      4.99\n",
       "219      4.99\n",
       "329      3.99\n",
       "362      6.99\n",
       "363      1.49\n",
       "        ...  \n",
       "9511     0.99\n",
       "9536     7.99\n",
       "9556    16.99\n",
       "9559     1.20\n",
       "9572     1.04\n",
       "Name: Price, Length: 753, dtype: object"
      ]
     },
     "execution_count": 40,
     "metadata": {},
     "output_type": "execute_result"
    }
   ],
   "source": [
    "price[price!='0']"
   ]
  },
  {
   "cell_type": "code",
   "execution_count": 41,
   "metadata": {},
   "outputs": [],
   "source": [
    "gg1['Price'] = price"
   ]
  },
  {
   "cell_type": "code",
   "execution_count": 42,
   "metadata": {},
   "outputs": [
    {
     "data": {
      "text/html": [
       "<div>\n",
       "<style scoped>\n",
       "    .dataframe tbody tr th:only-of-type {\n",
       "        vertical-align: middle;\n",
       "    }\n",
       "\n",
       "    .dataframe tbody tr th {\n",
       "        vertical-align: top;\n",
       "    }\n",
       "\n",
       "    .dataframe thead th {\n",
       "        text-align: right;\n",
       "    }\n",
       "</style>\n",
       "<table border=\"1\" class=\"dataframe\">\n",
       "  <thead>\n",
       "    <tr style=\"text-align: right;\">\n",
       "      <th></th>\n",
       "      <th>App</th>\n",
       "      <th>Category</th>\n",
       "      <th>Rating</th>\n",
       "      <th>Reviews</th>\n",
       "      <th>Size</th>\n",
       "      <th>Installs</th>\n",
       "      <th>Type</th>\n",
       "      <th>Price</th>\n",
       "      <th>Content Rating</th>\n",
       "      <th>Genres</th>\n",
       "      <th>Last Updated</th>\n",
       "      <th>Current Ver</th>\n",
       "      <th>Android Ver</th>\n",
       "    </tr>\n",
       "  </thead>\n",
       "  <tbody>\n",
       "    <tr>\n",
       "      <td>218</td>\n",
       "      <td>TurboScan: scan documents and receipts in PDF</td>\n",
       "      <td>BUSINESS</td>\n",
       "      <td>4.7</td>\n",
       "      <td>11442</td>\n",
       "      <td>6.8M</td>\n",
       "      <td>100,000+</td>\n",
       "      <td>Paid</td>\n",
       "      <td>4.99</td>\n",
       "      <td>Everyone</td>\n",
       "      <td>Business</td>\n",
       "      <td>March 25, 2018</td>\n",
       "      <td>1.5.2</td>\n",
       "      <td>4.0 and up</td>\n",
       "    </tr>\n",
       "    <tr>\n",
       "      <td>219</td>\n",
       "      <td>Tiny Scanner Pro: PDF Doc Scan</td>\n",
       "      <td>BUSINESS</td>\n",
       "      <td>4.8</td>\n",
       "      <td>10295</td>\n",
       "      <td>39M</td>\n",
       "      <td>100,000+</td>\n",
       "      <td>Paid</td>\n",
       "      <td>4.99</td>\n",
       "      <td>Everyone</td>\n",
       "      <td>Business</td>\n",
       "      <td>April 11, 2017</td>\n",
       "      <td>3.4.6</td>\n",
       "      <td>3.0 and up</td>\n",
       "    </tr>\n",
       "    <tr>\n",
       "      <td>329</td>\n",
       "      <td>Puffin Browser Pro</td>\n",
       "      <td>COMMUNICATION</td>\n",
       "      <td>4.0</td>\n",
       "      <td>18247</td>\n",
       "      <td>Varies with device</td>\n",
       "      <td>100,000+</td>\n",
       "      <td>Paid</td>\n",
       "      <td>3.99</td>\n",
       "      <td>Everyone</td>\n",
       "      <td>Communication</td>\n",
       "      <td>July 5, 2018</td>\n",
       "      <td>7.5.3.20547</td>\n",
       "      <td>4.1 and up</td>\n",
       "    </tr>\n",
       "    <tr>\n",
       "      <td>362</td>\n",
       "      <td>Calculator</td>\n",
       "      <td>DATING</td>\n",
       "      <td>2.6</td>\n",
       "      <td>57</td>\n",
       "      <td>6.2M</td>\n",
       "      <td>1,000+</td>\n",
       "      <td>Paid</td>\n",
       "      <td>6.99</td>\n",
       "      <td>Everyone</td>\n",
       "      <td>Dating</td>\n",
       "      <td>October 25, 2017</td>\n",
       "      <td>1.1.6</td>\n",
       "      <td>4.0 and up</td>\n",
       "    </tr>\n",
       "    <tr>\n",
       "      <td>363</td>\n",
       "      <td>Truth or Dare Pro</td>\n",
       "      <td>DATING</td>\n",
       "      <td>NaN</td>\n",
       "      <td>0</td>\n",
       "      <td>20M</td>\n",
       "      <td>50+</td>\n",
       "      <td>Paid</td>\n",
       "      <td>1.49</td>\n",
       "      <td>Teen</td>\n",
       "      <td>Dating</td>\n",
       "      <td>September 1, 2017</td>\n",
       "      <td>1.0</td>\n",
       "      <td>4.0 and up</td>\n",
       "    </tr>\n",
       "    <tr>\n",
       "      <td>...</td>\n",
       "      <td>...</td>\n",
       "      <td>...</td>\n",
       "      <td>...</td>\n",
       "      <td>...</td>\n",
       "      <td>...</td>\n",
       "      <td>...</td>\n",
       "      <td>...</td>\n",
       "      <td>...</td>\n",
       "      <td>...</td>\n",
       "      <td>...</td>\n",
       "      <td>...</td>\n",
       "      <td>...</td>\n",
       "      <td>...</td>\n",
       "    </tr>\n",
       "    <tr>\n",
       "      <td>9511</td>\n",
       "      <td>FP VoiceBot</td>\n",
       "      <td>FAMILY</td>\n",
       "      <td>NaN</td>\n",
       "      <td>17</td>\n",
       "      <td>157k</td>\n",
       "      <td>100+</td>\n",
       "      <td>Paid</td>\n",
       "      <td>0.99</td>\n",
       "      <td>Mature 17+</td>\n",
       "      <td>Entertainment</td>\n",
       "      <td>November 25, 2015</td>\n",
       "      <td>1.2</td>\n",
       "      <td>2.1 and up</td>\n",
       "    </tr>\n",
       "    <tr>\n",
       "      <td>9536</td>\n",
       "      <td>Fast Tract Diet</td>\n",
       "      <td>HEALTH_AND_FITNESS</td>\n",
       "      <td>4.4</td>\n",
       "      <td>35</td>\n",
       "      <td>2.4M</td>\n",
       "      <td>1,000+</td>\n",
       "      <td>Paid</td>\n",
       "      <td>7.99</td>\n",
       "      <td>Everyone</td>\n",
       "      <td>Health &amp; Fitness</td>\n",
       "      <td>August 8, 2018</td>\n",
       "      <td>1.9.3</td>\n",
       "      <td>4.2 and up</td>\n",
       "    </tr>\n",
       "    <tr>\n",
       "      <td>9556</td>\n",
       "      <td>Trine 2: Complete Story</td>\n",
       "      <td>GAME</td>\n",
       "      <td>3.8</td>\n",
       "      <td>252</td>\n",
       "      <td>11M</td>\n",
       "      <td>10,000+</td>\n",
       "      <td>Paid</td>\n",
       "      <td>16.99</td>\n",
       "      <td>Teen</td>\n",
       "      <td>Action</td>\n",
       "      <td>February 27, 2015</td>\n",
       "      <td>2.22</td>\n",
       "      <td>5.0 and up</td>\n",
       "    </tr>\n",
       "    <tr>\n",
       "      <td>9559</td>\n",
       "      <td>sugar, sugar</td>\n",
       "      <td>FAMILY</td>\n",
       "      <td>4.2</td>\n",
       "      <td>1405</td>\n",
       "      <td>9.5M</td>\n",
       "      <td>10,000+</td>\n",
       "      <td>Paid</td>\n",
       "      <td>1.20</td>\n",
       "      <td>Everyone</td>\n",
       "      <td>Puzzle</td>\n",
       "      <td>June 5, 2018</td>\n",
       "      <td>2.7</td>\n",
       "      <td>2.3 and up</td>\n",
       "    </tr>\n",
       "    <tr>\n",
       "      <td>9572</td>\n",
       "      <td>Word Search Tab 1 FR</td>\n",
       "      <td>FAMILY</td>\n",
       "      <td>NaN</td>\n",
       "      <td>0</td>\n",
       "      <td>1020k</td>\n",
       "      <td>50+</td>\n",
       "      <td>Paid</td>\n",
       "      <td>1.04</td>\n",
       "      <td>Everyone</td>\n",
       "      <td>Puzzle</td>\n",
       "      <td>February 6, 2012</td>\n",
       "      <td>1.1</td>\n",
       "      <td>3.0 and up</td>\n",
       "    </tr>\n",
       "  </tbody>\n",
       "</table>\n",
       "<p>753 rows × 13 columns</p>\n",
       "</div>"
      ],
      "text/plain": [
       "                                                App            Category  \\\n",
       "218   TurboScan: scan documents and receipts in PDF            BUSINESS   \n",
       "219                  Tiny Scanner Pro: PDF Doc Scan            BUSINESS   \n",
       "329                              Puffin Browser Pro       COMMUNICATION   \n",
       "362                                      Calculator              DATING   \n",
       "363                               Truth or Dare Pro              DATING   \n",
       "...                                             ...                 ...   \n",
       "9511                                    FP VoiceBot              FAMILY   \n",
       "9536                                Fast Tract Diet  HEALTH_AND_FITNESS   \n",
       "9556                        Trine 2: Complete Story                GAME   \n",
       "9559                                   sugar, sugar              FAMILY   \n",
       "9572                           Word Search Tab 1 FR              FAMILY   \n",
       "\n",
       "      Rating Reviews                Size  Installs  Type  Price  \\\n",
       "218      4.7   11442                6.8M  100,000+  Paid   4.99   \n",
       "219      4.8   10295                 39M  100,000+  Paid   4.99   \n",
       "329      4.0   18247  Varies with device  100,000+  Paid   3.99   \n",
       "362      2.6      57                6.2M    1,000+  Paid   6.99   \n",
       "363      NaN       0                 20M       50+  Paid   1.49   \n",
       "...      ...     ...                 ...       ...   ...    ...   \n",
       "9511     NaN      17                157k      100+  Paid   0.99   \n",
       "9536     4.4      35                2.4M    1,000+  Paid   7.99   \n",
       "9556     3.8     252                 11M   10,000+  Paid  16.99   \n",
       "9559     4.2    1405                9.5M   10,000+  Paid   1.20   \n",
       "9572     NaN       0               1020k       50+  Paid   1.04   \n",
       "\n",
       "     Content Rating            Genres       Last Updated  Current Ver  \\\n",
       "218        Everyone          Business     March 25, 2018        1.5.2   \n",
       "219        Everyone          Business     April 11, 2017        3.4.6   \n",
       "329        Everyone     Communication       July 5, 2018  7.5.3.20547   \n",
       "362        Everyone            Dating   October 25, 2017        1.1.6   \n",
       "363            Teen            Dating  September 1, 2017          1.0   \n",
       "...             ...               ...                ...          ...   \n",
       "9511     Mature 17+     Entertainment  November 25, 2015          1.2   \n",
       "9536       Everyone  Health & Fitness     August 8, 2018        1.9.3   \n",
       "9556           Teen            Action  February 27, 2015         2.22   \n",
       "9559       Everyone            Puzzle       June 5, 2018          2.7   \n",
       "9572       Everyone            Puzzle   February 6, 2012          1.1   \n",
       "\n",
       "     Android Ver  \n",
       "218   4.0 and up  \n",
       "219   3.0 and up  \n",
       "329   4.1 and up  \n",
       "362   4.0 and up  \n",
       "363   4.0 and up  \n",
       "...          ...  \n",
       "9511  2.1 and up  \n",
       "9536  4.2 and up  \n",
       "9556  5.0 and up  \n",
       "9559  2.3 and up  \n",
       "9572  3.0 and up  \n",
       "\n",
       "[753 rows x 13 columns]"
      ]
     },
     "execution_count": 42,
     "metadata": {},
     "output_type": "execute_result"
    }
   ],
   "source": [
    "gg1[gg1['Price']!='0']"
   ]
  },
  {
   "cell_type": "code",
   "execution_count": 43,
   "metadata": {},
   "outputs": [
    {
     "data": {
      "text/plain": [
       "App                object\n",
       "Category           object\n",
       "Rating            float64\n",
       "Reviews            object\n",
       "Size               object\n",
       "Installs           object\n",
       "Type               object\n",
       "Price              object\n",
       "Content Rating     object\n",
       "Genres             object\n",
       "Last Updated       object\n",
       "Current Ver        object\n",
       "Android Ver        object\n",
       "dtype: object"
      ]
     },
     "execution_count": 43,
     "metadata": {},
     "output_type": "execute_result"
    }
   ],
   "source": [
    "gg1.dtypes"
   ]
  },
  {
   "cell_type": "code",
   "execution_count": 44,
   "metadata": {},
   "outputs": [
    {
     "ename": "ValueError",
     "evalue": "could not convert string to float: 'Everyone'",
     "output_type": "error",
     "traceback": [
      "\u001b[1;31m---------------------------------------------------------------------------\u001b[0m",
      "\u001b[1;31mValueError\u001b[0m                                Traceback (most recent call last)",
      "\u001b[1;32m<ipython-input-44-66e3182044d2>\u001b[0m in \u001b[0;36m<module>\u001b[1;34m\u001b[0m\n\u001b[1;32m----> 1\u001b[1;33m \u001b[0mgg1\u001b[0m\u001b[1;33m[\u001b[0m\u001b[1;34m'Price'\u001b[0m\u001b[1;33m]\u001b[0m \u001b[1;33m=\u001b[0m \u001b[0mgg1\u001b[0m\u001b[1;33m[\u001b[0m\u001b[1;34m'Price'\u001b[0m\u001b[1;33m]\u001b[0m\u001b[1;33m.\u001b[0m\u001b[0mastype\u001b[0m\u001b[1;33m(\u001b[0m\u001b[1;34m'float'\u001b[0m\u001b[1;33m)\u001b[0m\u001b[1;33m\u001b[0m\u001b[1;33m\u001b[0m\u001b[0m\n\u001b[0m",
      "\u001b[1;32m~\\Anaconda3\\lib\\site-packages\\pandas\\core\\generic.py\u001b[0m in \u001b[0;36mastype\u001b[1;34m(self, dtype, copy, errors, **kwargs)\u001b[0m\n\u001b[0;32m   5880\u001b[0m             \u001b[1;31m# else, only a single dtype is given\u001b[0m\u001b[1;33m\u001b[0m\u001b[1;33m\u001b[0m\u001b[1;33m\u001b[0m\u001b[0m\n\u001b[0;32m   5881\u001b[0m             new_data = self._data.astype(\n\u001b[1;32m-> 5882\u001b[1;33m                 \u001b[0mdtype\u001b[0m\u001b[1;33m=\u001b[0m\u001b[0mdtype\u001b[0m\u001b[1;33m,\u001b[0m \u001b[0mcopy\u001b[0m\u001b[1;33m=\u001b[0m\u001b[0mcopy\u001b[0m\u001b[1;33m,\u001b[0m \u001b[0merrors\u001b[0m\u001b[1;33m=\u001b[0m\u001b[0merrors\u001b[0m\u001b[1;33m,\u001b[0m \u001b[1;33m**\u001b[0m\u001b[0mkwargs\u001b[0m\u001b[1;33m\u001b[0m\u001b[1;33m\u001b[0m\u001b[0m\n\u001b[0m\u001b[0;32m   5883\u001b[0m             )\n\u001b[0;32m   5884\u001b[0m             \u001b[1;32mreturn\u001b[0m \u001b[0mself\u001b[0m\u001b[1;33m.\u001b[0m\u001b[0m_constructor\u001b[0m\u001b[1;33m(\u001b[0m\u001b[0mnew_data\u001b[0m\u001b[1;33m)\u001b[0m\u001b[1;33m.\u001b[0m\u001b[0m__finalize__\u001b[0m\u001b[1;33m(\u001b[0m\u001b[0mself\u001b[0m\u001b[1;33m)\u001b[0m\u001b[1;33m\u001b[0m\u001b[1;33m\u001b[0m\u001b[0m\n",
      "\u001b[1;32m~\\Anaconda3\\lib\\site-packages\\pandas\\core\\internals\\managers.py\u001b[0m in \u001b[0;36mastype\u001b[1;34m(self, dtype, **kwargs)\u001b[0m\n\u001b[0;32m    579\u001b[0m \u001b[1;33m\u001b[0m\u001b[0m\n\u001b[0;32m    580\u001b[0m     \u001b[1;32mdef\u001b[0m \u001b[0mastype\u001b[0m\u001b[1;33m(\u001b[0m\u001b[0mself\u001b[0m\u001b[1;33m,\u001b[0m \u001b[0mdtype\u001b[0m\u001b[1;33m,\u001b[0m \u001b[1;33m**\u001b[0m\u001b[0mkwargs\u001b[0m\u001b[1;33m)\u001b[0m\u001b[1;33m:\u001b[0m\u001b[1;33m\u001b[0m\u001b[1;33m\u001b[0m\u001b[0m\n\u001b[1;32m--> 581\u001b[1;33m         \u001b[1;32mreturn\u001b[0m \u001b[0mself\u001b[0m\u001b[1;33m.\u001b[0m\u001b[0mapply\u001b[0m\u001b[1;33m(\u001b[0m\u001b[1;34m\"astype\"\u001b[0m\u001b[1;33m,\u001b[0m \u001b[0mdtype\u001b[0m\u001b[1;33m=\u001b[0m\u001b[0mdtype\u001b[0m\u001b[1;33m,\u001b[0m \u001b[1;33m**\u001b[0m\u001b[0mkwargs\u001b[0m\u001b[1;33m)\u001b[0m\u001b[1;33m\u001b[0m\u001b[1;33m\u001b[0m\u001b[0m\n\u001b[0m\u001b[0;32m    582\u001b[0m \u001b[1;33m\u001b[0m\u001b[0m\n\u001b[0;32m    583\u001b[0m     \u001b[1;32mdef\u001b[0m \u001b[0mconvert\u001b[0m\u001b[1;33m(\u001b[0m\u001b[0mself\u001b[0m\u001b[1;33m,\u001b[0m \u001b[1;33m**\u001b[0m\u001b[0mkwargs\u001b[0m\u001b[1;33m)\u001b[0m\u001b[1;33m:\u001b[0m\u001b[1;33m\u001b[0m\u001b[1;33m\u001b[0m\u001b[0m\n",
      "\u001b[1;32m~\\Anaconda3\\lib\\site-packages\\pandas\\core\\internals\\managers.py\u001b[0m in \u001b[0;36mapply\u001b[1;34m(self, f, axes, filter, do_integrity_check, consolidate, **kwargs)\u001b[0m\n\u001b[0;32m    436\u001b[0m                     \u001b[0mkwargs\u001b[0m\u001b[1;33m[\u001b[0m\u001b[0mk\u001b[0m\u001b[1;33m]\u001b[0m \u001b[1;33m=\u001b[0m \u001b[0mobj\u001b[0m\u001b[1;33m.\u001b[0m\u001b[0mreindex\u001b[0m\u001b[1;33m(\u001b[0m\u001b[0mb_items\u001b[0m\u001b[1;33m,\u001b[0m \u001b[0maxis\u001b[0m\u001b[1;33m=\u001b[0m\u001b[0maxis\u001b[0m\u001b[1;33m,\u001b[0m \u001b[0mcopy\u001b[0m\u001b[1;33m=\u001b[0m\u001b[0malign_copy\u001b[0m\u001b[1;33m)\u001b[0m\u001b[1;33m\u001b[0m\u001b[1;33m\u001b[0m\u001b[0m\n\u001b[0;32m    437\u001b[0m \u001b[1;33m\u001b[0m\u001b[0m\n\u001b[1;32m--> 438\u001b[1;33m             \u001b[0mapplied\u001b[0m \u001b[1;33m=\u001b[0m \u001b[0mgetattr\u001b[0m\u001b[1;33m(\u001b[0m\u001b[0mb\u001b[0m\u001b[1;33m,\u001b[0m \u001b[0mf\u001b[0m\u001b[1;33m)\u001b[0m\u001b[1;33m(\u001b[0m\u001b[1;33m**\u001b[0m\u001b[0mkwargs\u001b[0m\u001b[1;33m)\u001b[0m\u001b[1;33m\u001b[0m\u001b[1;33m\u001b[0m\u001b[0m\n\u001b[0m\u001b[0;32m    439\u001b[0m             \u001b[0mresult_blocks\u001b[0m \u001b[1;33m=\u001b[0m \u001b[0m_extend_blocks\u001b[0m\u001b[1;33m(\u001b[0m\u001b[0mapplied\u001b[0m\u001b[1;33m,\u001b[0m \u001b[0mresult_blocks\u001b[0m\u001b[1;33m)\u001b[0m\u001b[1;33m\u001b[0m\u001b[1;33m\u001b[0m\u001b[0m\n\u001b[0;32m    440\u001b[0m \u001b[1;33m\u001b[0m\u001b[0m\n",
      "\u001b[1;32m~\\Anaconda3\\lib\\site-packages\\pandas\\core\\internals\\blocks.py\u001b[0m in \u001b[0;36mastype\u001b[1;34m(self, dtype, copy, errors, values, **kwargs)\u001b[0m\n\u001b[0;32m    557\u001b[0m \u001b[1;33m\u001b[0m\u001b[0m\n\u001b[0;32m    558\u001b[0m     \u001b[1;32mdef\u001b[0m \u001b[0mastype\u001b[0m\u001b[1;33m(\u001b[0m\u001b[0mself\u001b[0m\u001b[1;33m,\u001b[0m \u001b[0mdtype\u001b[0m\u001b[1;33m,\u001b[0m \u001b[0mcopy\u001b[0m\u001b[1;33m=\u001b[0m\u001b[1;32mFalse\u001b[0m\u001b[1;33m,\u001b[0m \u001b[0merrors\u001b[0m\u001b[1;33m=\u001b[0m\u001b[1;34m\"raise\"\u001b[0m\u001b[1;33m,\u001b[0m \u001b[0mvalues\u001b[0m\u001b[1;33m=\u001b[0m\u001b[1;32mNone\u001b[0m\u001b[1;33m,\u001b[0m \u001b[1;33m**\u001b[0m\u001b[0mkwargs\u001b[0m\u001b[1;33m)\u001b[0m\u001b[1;33m:\u001b[0m\u001b[1;33m\u001b[0m\u001b[1;33m\u001b[0m\u001b[0m\n\u001b[1;32m--> 559\u001b[1;33m         \u001b[1;32mreturn\u001b[0m \u001b[0mself\u001b[0m\u001b[1;33m.\u001b[0m\u001b[0m_astype\u001b[0m\u001b[1;33m(\u001b[0m\u001b[0mdtype\u001b[0m\u001b[1;33m,\u001b[0m \u001b[0mcopy\u001b[0m\u001b[1;33m=\u001b[0m\u001b[0mcopy\u001b[0m\u001b[1;33m,\u001b[0m \u001b[0merrors\u001b[0m\u001b[1;33m=\u001b[0m\u001b[0merrors\u001b[0m\u001b[1;33m,\u001b[0m \u001b[0mvalues\u001b[0m\u001b[1;33m=\u001b[0m\u001b[0mvalues\u001b[0m\u001b[1;33m,\u001b[0m \u001b[1;33m**\u001b[0m\u001b[0mkwargs\u001b[0m\u001b[1;33m)\u001b[0m\u001b[1;33m\u001b[0m\u001b[1;33m\u001b[0m\u001b[0m\n\u001b[0m\u001b[0;32m    560\u001b[0m \u001b[1;33m\u001b[0m\u001b[0m\n\u001b[0;32m    561\u001b[0m     \u001b[1;32mdef\u001b[0m \u001b[0m_astype\u001b[0m\u001b[1;33m(\u001b[0m\u001b[0mself\u001b[0m\u001b[1;33m,\u001b[0m \u001b[0mdtype\u001b[0m\u001b[1;33m,\u001b[0m \u001b[0mcopy\u001b[0m\u001b[1;33m=\u001b[0m\u001b[1;32mFalse\u001b[0m\u001b[1;33m,\u001b[0m \u001b[0merrors\u001b[0m\u001b[1;33m=\u001b[0m\u001b[1;34m\"raise\"\u001b[0m\u001b[1;33m,\u001b[0m \u001b[0mvalues\u001b[0m\u001b[1;33m=\u001b[0m\u001b[1;32mNone\u001b[0m\u001b[1;33m,\u001b[0m \u001b[1;33m**\u001b[0m\u001b[0mkwargs\u001b[0m\u001b[1;33m)\u001b[0m\u001b[1;33m:\u001b[0m\u001b[1;33m\u001b[0m\u001b[1;33m\u001b[0m\u001b[0m\n",
      "\u001b[1;32m~\\Anaconda3\\lib\\site-packages\\pandas\\core\\internals\\blocks.py\u001b[0m in \u001b[0;36m_astype\u001b[1;34m(self, dtype, copy, errors, values, **kwargs)\u001b[0m\n\u001b[0;32m    641\u001b[0m                     \u001b[1;31m# _astype_nansafe works fine with 1-d only\u001b[0m\u001b[1;33m\u001b[0m\u001b[1;33m\u001b[0m\u001b[1;33m\u001b[0m\u001b[0m\n\u001b[0;32m    642\u001b[0m                     \u001b[0mvals1d\u001b[0m \u001b[1;33m=\u001b[0m \u001b[0mvalues\u001b[0m\u001b[1;33m.\u001b[0m\u001b[0mravel\u001b[0m\u001b[1;33m(\u001b[0m\u001b[1;33m)\u001b[0m\u001b[1;33m\u001b[0m\u001b[1;33m\u001b[0m\u001b[0m\n\u001b[1;32m--> 643\u001b[1;33m                     \u001b[0mvalues\u001b[0m \u001b[1;33m=\u001b[0m \u001b[0mastype_nansafe\u001b[0m\u001b[1;33m(\u001b[0m\u001b[0mvals1d\u001b[0m\u001b[1;33m,\u001b[0m \u001b[0mdtype\u001b[0m\u001b[1;33m,\u001b[0m \u001b[0mcopy\u001b[0m\u001b[1;33m=\u001b[0m\u001b[1;32mTrue\u001b[0m\u001b[1;33m,\u001b[0m \u001b[1;33m**\u001b[0m\u001b[0mkwargs\u001b[0m\u001b[1;33m)\u001b[0m\u001b[1;33m\u001b[0m\u001b[1;33m\u001b[0m\u001b[0m\n\u001b[0m\u001b[0;32m    644\u001b[0m \u001b[1;33m\u001b[0m\u001b[0m\n\u001b[0;32m    645\u001b[0m                 \u001b[1;31m# TODO(extension)\u001b[0m\u001b[1;33m\u001b[0m\u001b[1;33m\u001b[0m\u001b[1;33m\u001b[0m\u001b[0m\n",
      "\u001b[1;32m~\\Anaconda3\\lib\\site-packages\\pandas\\core\\dtypes\\cast.py\u001b[0m in \u001b[0;36mastype_nansafe\u001b[1;34m(arr, dtype, copy, skipna)\u001b[0m\n\u001b[0;32m    727\u001b[0m     \u001b[1;32mif\u001b[0m \u001b[0mcopy\u001b[0m \u001b[1;32mor\u001b[0m \u001b[0mis_object_dtype\u001b[0m\u001b[1;33m(\u001b[0m\u001b[0marr\u001b[0m\u001b[1;33m)\u001b[0m \u001b[1;32mor\u001b[0m \u001b[0mis_object_dtype\u001b[0m\u001b[1;33m(\u001b[0m\u001b[0mdtype\u001b[0m\u001b[1;33m)\u001b[0m\u001b[1;33m:\u001b[0m\u001b[1;33m\u001b[0m\u001b[1;33m\u001b[0m\u001b[0m\n\u001b[0;32m    728\u001b[0m         \u001b[1;31m# Explicit copy, or required since NumPy can't view from / to object.\u001b[0m\u001b[1;33m\u001b[0m\u001b[1;33m\u001b[0m\u001b[1;33m\u001b[0m\u001b[0m\n\u001b[1;32m--> 729\u001b[1;33m         \u001b[1;32mreturn\u001b[0m \u001b[0marr\u001b[0m\u001b[1;33m.\u001b[0m\u001b[0mastype\u001b[0m\u001b[1;33m(\u001b[0m\u001b[0mdtype\u001b[0m\u001b[1;33m,\u001b[0m \u001b[0mcopy\u001b[0m\u001b[1;33m=\u001b[0m\u001b[1;32mTrue\u001b[0m\u001b[1;33m)\u001b[0m\u001b[1;33m\u001b[0m\u001b[1;33m\u001b[0m\u001b[0m\n\u001b[0m\u001b[0;32m    730\u001b[0m \u001b[1;33m\u001b[0m\u001b[0m\n\u001b[0;32m    731\u001b[0m     \u001b[1;32mreturn\u001b[0m \u001b[0marr\u001b[0m\u001b[1;33m.\u001b[0m\u001b[0mview\u001b[0m\u001b[1;33m(\u001b[0m\u001b[0mdtype\u001b[0m\u001b[1;33m)\u001b[0m\u001b[1;33m\u001b[0m\u001b[1;33m\u001b[0m\u001b[0m\n",
      "\u001b[1;31mValueError\u001b[0m: could not convert string to float: 'Everyone'"
     ]
    }
   ],
   "source": [
    "gg1['Price'] = gg1['Price'].astype('float')"
   ]
  },
  {
   "cell_type": "code",
   "execution_count": null,
   "metadata": {},
   "outputs": [],
   "source": [
    "# The error in the above cell indicates that one of the rows has inappropriate type of data in the Price column.\n",
    "gg1[gg1['Price']=='Everyone']"
   ]
  },
  {
   "cell_type": "code",
   "execution_count": null,
   "metadata": {},
   "outputs": [],
   "source": [
    "# Dropping the row which has the value 'Everyone' in the price column.\n",
    "gg1.drop((gg1[gg1['Price']=='Everyone']).index,axis=0,inplace=True)"
   ]
  },
  {
   "cell_type": "code",
   "execution_count": null,
   "metadata": {},
   "outputs": [],
   "source": [
    "gg1['Price'] = gg1['Price'].astype('float')"
   ]
  },
  {
   "cell_type": "code",
   "execution_count": null,
   "metadata": {},
   "outputs": [],
   "source": [
    "# Dropping the rows that have apps which are not free of cost.\n",
    "gg1.drop((gg1[gg1['Price']>0]).index,axis=0,inplace=True)"
   ]
  },
  {
   "cell_type": "code",
   "execution_count": null,
   "metadata": {},
   "outputs": [],
   "source": [
    "gg1.shape"
   ]
  },
  {
   "cell_type": "code",
   "execution_count": null,
   "metadata": {},
   "outputs": [],
   "source": []
  },
  {
   "cell_type": "code",
   "execution_count": null,
   "metadata": {},
   "outputs": [],
   "source": [
    "set(gg1['Type'])"
   ]
  },
  {
   "cell_type": "code",
   "execution_count": null,
   "metadata": {},
   "outputs": [],
   "source": [
    "# Number of NA values in the dataset.\n",
    "gg1.isna().sum()"
   ]
  },
  {
   "cell_type": "markdown",
   "metadata": {},
   "source": [
    "There are still null values left after removing duplicate data and apps that are not free of cost."
   ]
  },
  {
   "cell_type": "code",
   "execution_count": null,
   "metadata": {},
   "outputs": [],
   "source": [
    "# Total number of na values.\n",
    "gg1.isna().sum().sum()"
   ]
  },
  {
   "cell_type": "code",
   "execution_count": null,
   "metadata": {},
   "outputs": [],
   "source": [
    "gg1.info()"
   ]
  },
  {
   "cell_type": "code",
   "execution_count": null,
   "metadata": {},
   "outputs": [],
   "source": [
    "gg1[gg1['Type'].isna()]"
   ]
  },
  {
   "cell_type": "markdown",
   "metadata": {},
   "source": [
    "As there is a large number of null values in the rating column, removing all such rows will result in a substantial loss of data. Therefore, instead of dropping the rows, the null value in the rating column will replaced with the average rating given to that category of apps. "
   ]
  },
  {
   "cell_type": "code",
   "execution_count": null,
   "metadata": {},
   "outputs": [],
   "source": [
    "# Taking a subset of the dataset in which the Rating column has only NA values.\n",
    "x = gg1[gg1['Rating'].isna()]"
   ]
  },
  {
   "cell_type": "code",
   "execution_count": null,
   "metadata": {},
   "outputs": [],
   "source": [
    "# Creating a list of categories which has rows in which the Rating column has NA values.\n",
    "cat = list(set(x['Category']))"
   ]
  },
  {
   "cell_type": "code",
   "execution_count": null,
   "metadata": {},
   "outputs": [],
   "source": [
    "for i in range(len(cat)):\n",
    "    avg_rating = gg1['Rating'][gg1['Category']==cat[i]].mean()\n",
    "    gg1.Rating[(gg1['Rating'].isna()) & (gg1['Category']==cat[i])]=avg_rating"
   ]
  },
  {
   "cell_type": "code",
   "execution_count": null,
   "metadata": {},
   "outputs": [],
   "source": [
    "gg1.Rating[(gg1['Rating']==np.nan) & (gg1['Category']=='BEAUTY')]"
   ]
  },
  {
   "cell_type": "code",
   "execution_count": null,
   "metadata": {},
   "outputs": [],
   "source": [
    "gg1.info()"
   ]
  },
  {
   "cell_type": "code",
   "execution_count": null,
   "metadata": {},
   "outputs": [],
   "source": [
    "# Number of NA values left\n",
    "gg1.isna().sum().sum()"
   ]
  },
  {
   "cell_type": "code",
   "execution_count": null,
   "metadata": {},
   "outputs": [],
   "source": [
    "gg1[gg1.isna().any(axis=1)]"
   ]
  },
  {
   "cell_type": "code",
   "execution_count": null,
   "metadata": {},
   "outputs": [],
   "source": [
    "set(gg1['Current Ver'])"
   ]
  },
  {
   "cell_type": "markdown",
   "metadata": {},
   "source": [
    "After replacing the null values in the *Rating* column, there are 8 null values in the *Current Ver* column. As the version of each app is distinct and unique, it cannot be replaced by another value from the column. Therefore, these values will be dropped"
   ]
  },
  {
   "cell_type": "code",
   "execution_count": null,
   "metadata": {},
   "outputs": [],
   "source": [
    "gg1.dropna(inplace=True)"
   ]
  },
  {
   "cell_type": "code",
   "execution_count": null,
   "metadata": {},
   "outputs": [],
   "source": [
    "gg1.isna().sum().sum()"
   ]
  },
  {
   "cell_type": "code",
   "execution_count": null,
   "metadata": {},
   "outputs": [],
   "source": [
    "gg1.info()"
   ]
  },
  {
   "cell_type": "code",
   "execution_count": null,
   "metadata": {},
   "outputs": [],
   "source": []
  },
  {
   "cell_type": "code",
   "execution_count": null,
   "metadata": {},
   "outputs": [],
   "source": []
  },
  {
   "cell_type": "markdown",
   "metadata": {},
   "source": [
    "# Data Cleaning\n",
    "**ios dataset**\n",
    "\n",
    "Now, we will be performing the same data cleaning procedure for the ios dataset."
   ]
  },
  {
   "cell_type": "code",
   "execution_count": null,
   "metadata": {
    "scrolled": true
   },
   "outputs": [],
   "source": [
    "ios.head()"
   ]
  },
  {
   "cell_type": "markdown",
   "metadata": {},
   "source": [
    "Checking for rows that are duplicates:"
   ]
  },
  {
   "cell_type": "code",
   "execution_count": null,
   "metadata": {},
   "outputs": [],
   "source": [
    "ios['track_name'].value_counts()[ios['track_name'].value_counts()>1]"
   ]
  },
  {
   "cell_type": "code",
   "execution_count": null,
   "metadata": {},
   "outputs": [],
   "source": [
    "ios.shape"
   ]
  },
  {
   "cell_type": "code",
   "execution_count": null,
   "metadata": {},
   "outputs": [],
   "source": [
    "ios[ios['track_name']=='Mannequin Challenge']"
   ]
  },
  {
   "cell_type": "code",
   "execution_count": null,
   "metadata": {},
   "outputs": [],
   "source": [
    "ios[ios['track_name']=='VR Roller Coaster']"
   ]
  },
  {
   "cell_type": "markdown",
   "metadata": {},
   "source": [
    "In this case, we will be retaining those rows which have the highest *rating_count_tot*. This column contains the number of ratings given by the users to a particular app for all versions. Here, an assumption is taken that, more the number of ratings given, more relevant and recent is the information."
   ]
  },
  {
   "cell_type": "code",
   "execution_count": null,
   "metadata": {},
   "outputs": [],
   "source": [
    "ios_dups = list(ios['track_name'].value_counts()[ios['track_name'].value_counts()>1].index)"
   ]
  },
  {
   "cell_type": "markdown",
   "metadata": {},
   "source": [
    "Dropping the duplicate rows:"
   ]
  },
  {
   "cell_type": "code",
   "execution_count": null,
   "metadata": {},
   "outputs": [],
   "source": [
    "for i in range(len(ios_dups)):\n",
    "    sub = ios[ios['track_name']==ios_dups[i]]\n",
    "    max2 = sub['ver'].max()\n",
    "    ios.drop(ios[(ios['track_name']==ios_dups[i]) & (ios['ver']!=max2)].index,inplace=True)\n",
    "    "
   ]
  },
  {
   "cell_type": "code",
   "execution_count": null,
   "metadata": {},
   "outputs": [],
   "source": [
    "ios[ios['track_name']=='Mannequin Challenge']"
   ]
  },
  {
   "cell_type": "code",
   "execution_count": null,
   "metadata": {},
   "outputs": [],
   "source": [
    "ios.shape"
   ]
  },
  {
   "cell_type": "markdown",
   "metadata": {},
   "source": [
    "Now, let's count the number of apps that have non-english names with the same condition that was applied in the google play store dataset i.e. those apps which have more than 3 characters in their names whose ASCII values do not lie in the range of 0 to 127 will be removed."
   ]
  },
  {
   "cell_type": "code",
   "execution_count": null,
   "metadata": {},
   "outputs": [],
   "source": [
    "# Counting the number of apps that have a non-english name in the ios dataset\n",
    "count = 0\n",
    "for i in range(ios.shape[0]):\n",
    "    cnt = 0\n",
    "    name = ios['track_name'].iloc[i]\n",
    "    \n",
    "    for j in name:\n",
    "        if((ord(j)>127) or (ord(j)<0)):\n",
    "            cnt+=1\n",
    "            if(cnt>3):\n",
    "                print(name)\n",
    "                count+=1\n",
    "                break\n",
    "            \n",
    "            \n",
    "        else:\n",
    "            continue\n",
    "            \n",
    "print('count:',count)"
   ]
  },
  {
   "cell_type": "code",
   "execution_count": null,
   "metadata": {},
   "outputs": [],
   "source": []
  },
  {
   "cell_type": "code",
   "execution_count": null,
   "metadata": {},
   "outputs": [],
   "source": [
    "# Number of apps to be left in the ios dataset after removal of non-english apps\n",
    "7195-1014"
   ]
  },
  {
   "cell_type": "code",
   "execution_count": null,
   "metadata": {},
   "outputs": [],
   "source": [
    "ios.shape"
   ]
  },
  {
   "cell_type": "code",
   "execution_count": null,
   "metadata": {
    "scrolled": true
   },
   "outputs": [],
   "source": [
    "# Dropping the rows that have apps that have a non-english name in the ios dataset\n",
    "count = 0\n",
    "i = ios.shape[0]-1\n",
    "while i > 0:\n",
    "    cnt = 0\n",
    "#     print('i:',i)\n",
    "    name = ios['track_name'].iloc[i]\n",
    "    \n",
    "    for j in name:\n",
    "        if((ord(j)>127) or (ord(j)<0)):\n",
    "            cnt+=1\n",
    "            if(cnt>3):\n",
    "                print(name)\n",
    "#                 print('dropping')\n",
    "                ios.drop((ios[ios['track_name']==name]).index,inplace=True)\n",
    "                ios.reset_index(drop=True,inplace=True)\n",
    "    #             i = ios.shape[0]-1\n",
    "#                 print('if i:',i)\n",
    "#                 print('dropped')\n",
    "                count+=1\n",
    "                break\n",
    "\n",
    "    i-=1\n",
    "            \n",
    "print('count:',count)"
   ]
  },
  {
   "cell_type": "markdown",
   "metadata": {},
   "source": [
    "Next, the apps that are not free of cost will be removed."
   ]
  },
  {
   "cell_type": "code",
   "execution_count": null,
   "metadata": {},
   "outputs": [],
   "source": [
    "# Removing apps that are not free.\n",
    "ios[ios['price']>0]"
   ]
  },
  {
   "cell_type": "markdown",
   "metadata": {},
   "source": [
    "As there are 2961 apps that are not free, after their removal, the number of rows left will be: *6181-2961 = 3220*"
   ]
  },
  {
   "cell_type": "code",
   "execution_count": null,
   "metadata": {},
   "outputs": [],
   "source": [
    "ios.drop((ios[ios['price']>0]).index,axis=0,inplace=True)"
   ]
  },
  {
   "cell_type": "code",
   "execution_count": null,
   "metadata": {},
   "outputs": [],
   "source": [
    "print(ios.shape)\n",
    "print(gg1.shape)"
   ]
  },
  {
   "cell_type": "code",
   "execution_count": null,
   "metadata": {},
   "outputs": [],
   "source": [
    "ios.info()"
   ]
  },
  {
   "cell_type": "code",
   "execution_count": null,
   "metadata": {},
   "outputs": [],
   "source": [
    "ios.isna().sum()"
   ]
  },
  {
   "cell_type": "code",
   "execution_count": null,
   "metadata": {},
   "outputs": [],
   "source": [
    "gg1.isna().sum()"
   ]
  },
  {
   "cell_type": "markdown",
   "metadata": {},
   "source": [
    "The data cleaning process of both the datasets is now complete. During this process, it is possible that certain variables were created but were not used. It is important to delete those variables in order to free the memory occupied by them for the smooth execution of our program."
   ]
  },
  {
   "cell_type": "code",
   "execution_count": null,
   "metadata": {},
   "outputs": [],
   "source": [
    "import gc\n",
    "gc.collect()"
   ]
  },
  {
   "cell_type": "markdown",
   "metadata": {},
   "source": [
    "Now we can begin the analysis of the datasets. First, we will check the most common category of apps in both the dataset"
   ]
  },
  {
   "cell_type": "markdown",
   "metadata": {},
   "source": [
    "# Frequency Tables\n",
    "\n",
    "A frequency table for each dataset will be created which has the count for each category of apps available in both the stores.\n",
    "\n",
    "**gg1 dataset**"
   ]
  },
  {
   "cell_type": "code",
   "execution_count": null,
   "metadata": {},
   "outputs": [],
   "source": [
    "gg1.columns"
   ]
  },
  {
   "cell_type": "code",
   "execution_count": null,
   "metadata": {},
   "outputs": [],
   "source": [
    "import matplotlib.pyplot as plt\n",
    "import seaborn as sns\n",
    "import matplotlib as mpl"
   ]
  },
  {
   "cell_type": "code",
   "execution_count": null,
   "metadata": {},
   "outputs": [],
   "source": [
    "plt.rcParams['font.size']=20"
   ]
  },
  {
   "cell_type": "code",
   "execution_count": null,
   "metadata": {
    "scrolled": false
   },
   "outputs": [],
   "source": [
    "fig,ax = plt.subplots(1,1,figsize=(100,30))\n",
    "plt.hist(gg1['Category'],ec='black',alpha=0.5,rwidth=0.45,bins=33)\n",
    "plt.yticks(fontsize=45)\n",
    "plt.xticks(fontsize=25,rotation=15,ticks=list(range(0,34)))\n",
    "plt.grid(axis='y',color='black',linewidth=2)\n",
    "\n",
    "\n"
   ]
  },
  {
   "cell_type": "markdown",
   "metadata": {},
   "source": [
    "As we can see that the maximum applications are in the category of *FAMILY* which has over 1600 apps followed by *GAME* which has over 800 apps."
   ]
  },
  {
   "cell_type": "markdown",
   "metadata": {},
   "source": [
    "Let us see what are the popular sub-genres of these two categories."
   ]
  },
  {
   "cell_type": "code",
   "execution_count": null,
   "metadata": {},
   "outputs": [],
   "source": [
    "family_game = gg1[(gg1['Category']=='FAMILY') | (gg1['Category']=='GAME')]"
   ]
  },
  {
   "cell_type": "code",
   "execution_count": null,
   "metadata": {},
   "outputs": [],
   "source": [
    "len(set(family_game['Genres']))"
   ]
  },
  {
   "cell_type": "code",
   "execution_count": null,
   "metadata": {},
   "outputs": [],
   "source": [
    "fig,ax = plt.subplots(1,1,figsize=(100,30))\n",
    "\n",
    "plt.hist(family_game['Genres'],bins=79,ec='black',alpha=0.5,rwidth=0.5)\n",
    "plt.grid(axis='y',linewidth=2)\n",
    "plt.xticks(rotation=45,ha='right',ticks=list(range(0,80)),rotation_mode='anchor')\n",
    "plt.show()\n"
   ]
  },
  {
   "cell_type": "markdown",
   "metadata": {},
   "source": [
    "The most popular sub-genres for the FAMILY and GAME categories are Entertainment and Education as both of them have over **400** apps and over **300** apps respectively. "
   ]
  },
  {
   "cell_type": "markdown",
   "metadata": {},
   "source": [
    "**ios dataset**"
   ]
  },
  {
   "cell_type": "code",
   "execution_count": null,
   "metadata": {},
   "outputs": [],
   "source": [
    "ios.columns"
   ]
  },
  {
   "cell_type": "code",
   "execution_count": null,
   "metadata": {},
   "outputs": [],
   "source": [
    "len(set(ios['prime_genre']))"
   ]
  },
  {
   "cell_type": "code",
   "execution_count": null,
   "metadata": {},
   "outputs": [],
   "source": [
    "y_val = np.arange(0,2020,500)\n",
    "fig,ax = plt.subplots(1,1,figsize=(20,5))\n",
    "plt.hist(ios['prime_genre'],ec='black',alpha=0.5,rwidth=0.3,bins=23)\n",
    "plt.yticks(y_val,fontsize=10)\n",
    "plt.xticks(fontsize=10,rotation=-20)\n",
    "plt.grid(axis='y',color='black',linewidth=1)\n",
    "\n",
    "\n"
   ]
  },
  {
   "cell_type": "markdown",
   "metadata": {},
   "source": [
    "Here, the number of applications of the genre *Games* clearly stands out from the number of applications of other categories."
   ]
  },
  {
   "cell_type": "markdown",
   "metadata": {},
   "source": [
    "Although the above histograms do show some valuable insghts regarding the popularity of different types of in the two app stores, having more precise results regarding the applications would lead to a better understanding of the popularity of the different apps in these app stores.  \n",
    "\n",
    "Keeping this in mind, let us now build a function which will give us the exact number of applications of each category of app as well the percentage of the apps of that category present in a particular store."
   ]
  },
  {
   "cell_type": "code",
   "execution_count": null,
   "metadata": {},
   "outputs": [],
   "source": [
    "def freq_table(df,col_name,percentage=False):\n",
    "    dim = (df.shape[0])\n",
    "    \n",
    "    num_category = dict()\n",
    "    for i in range(df.shape[0]):\n",
    "        if(df[col_name].iloc[i] in num_category):\n",
    "            num_category['{}'.format(df[col_name].iloc[i])]+=1\n",
    "            \n",
    "        else:\n",
    "            num_category['{}'.format(df[col_name].iloc[i])] = 1\n",
    "            \n",
    "        \n",
    "    keys = list(num_category.keys())\n",
    "    values = list(num_category.values())\n",
    "            \n",
    "            \n",
    "    if(percentage==False):      \n",
    "        import pandas as pd\n",
    "\n",
    "        labels = list(num_category.keys())\n",
    "        values = list(num_category.values())\n",
    "        num_category = pd.DataFrame({'Category':labels,'value':values})\n",
    "        return num_category\n",
    "            \n",
    "    if(percentage==True):\n",
    "        import pandas as pd\n",
    "\n",
    "        num_labels = list(num_category.keys())\n",
    "        num_values = list(num_category.values())\n",
    "        num_category = pd.DataFrame({'Category':num_labels,'value':num_values})\n",
    "        num_category.sort_values(ascending=False,by='value',inplace=True)\n",
    "        num_category.reset_index(drop=True,inplace=True)\n",
    "        percent_category = dict()\n",
    "        \n",
    "        for j in range(len(keys)):\n",
    "            \n",
    "            percent_category[keys[j]] = values[j]/dim          \n",
    "            \n",
    "        per_labels = list(percent_category.keys())\n",
    "        per_values = list(percent_category.values())\n",
    "        \n",
    "        percent_category = pd.DataFrame({'Category':per_labels,'Percentage':per_values})\n",
    "        percent_category.sort_values(ascending=False,by='Percentage',inplace=True)\n",
    "        percent_category.reset_index(drop=True,inplace=True)\n",
    "        return (num_category,percent_category)\n",
    "    \n",
    "    \n",
    "        "
   ]
  },
  {
   "cell_type": "code",
   "execution_count": null,
   "metadata": {},
   "outputs": [],
   "source": [
    "(gg_category,gg_percent_category) = freq_table(gg1,'Category',True)"
   ]
  },
  {
   "cell_type": "code",
   "execution_count": null,
   "metadata": {},
   "outputs": [],
   "source": [
    "from IPython.display import display_html \n",
    "gg_category_style = gg_category.style.set_table_attributes(\"style='display:inline'\").set_caption('Number of apps in each category')\n",
    "gg_percentage_category_style = gg_percent_category.style.set_table_attributes(\"style='display:inline'\").set_caption('Percentage of apps of each category')"
   ]
  },
  {
   "cell_type": "code",
   "execution_count": null,
   "metadata": {},
   "outputs": [],
   "source": [
    "display_html(gg_category_style._repr_html_()+\"\\xa0\\xa0\\xa0\\xa0\"+gg_percentage_category_style._repr_html_(),raw=True)"
   ]
  },
  {
   "cell_type": "markdown",
   "metadata": {},
   "source": [
    "Hence, we can see that there are **1675** apps of the category *FAMILY* which and nearly **19%** of all apps are of the category *FAMILY*. This is followed by the category *GAME* which is the second highest category in terms of the number of apps in each category after *FAMILY*. The number of apps which are of the *GAME* category are nearly half of that of the *FAMILY* category and consist approximately **10%** of all the apps in the google play store."
   ]
  },
  {
   "cell_type": "code",
   "execution_count": null,
   "metadata": {},
   "outputs": [],
   "source": [
    "(gg_genres,gg_percent_genres) = freq_table(family_game,'Genres',True)"
   ]
  },
  {
   "cell_type": "code",
   "execution_count": null,
   "metadata": {},
   "outputs": [],
   "source": [
    "# from IPython.display import display_html\n",
    "gg_genres_style = gg_genres.style.set_table_attributes(\"style='display:inline'\").set_caption('Number of applications of each genre')\n",
    "gg_percent_genres_style = gg_percent_genres.style.set_table_attributes(\"style='display:inline'\").set_caption('Percentage of applications of each genre')\n",
    "\n",
    "display_html(gg_genres_style._repr_html_()+'\\xa0\\xa0\\xa0'+gg_percent_genres_style._repr_html_(),raw=True)"
   ]
  },
  {
   "cell_type": "markdown",
   "metadata": {},
   "source": [
    "Here we can see that in the FAMILY and the GAME category, the most popular sub-category apps of these categories are apps of the *Entertainment* category followed by the *Education* category.  \n",
    "There are a total of **2534** apps which are of the category FAMILY or GAME out of which **18%** of the apps are of the  Entertainment sub-category and approximately **15%** of the apps are of the Education sub-category."
   ]
  },
  {
   "cell_type": "code",
   "execution_count": null,
   "metadata": {},
   "outputs": [],
   "source": [
    "display_html(ios_genres_style._repr_html_()+\"\\xa0\\xa0\\xa0\\xa0\"+ios_percent_genres_style._repr_html_(),raw=True)"
   ]
  },
  {
   "cell_type": "code",
   "execution_count": null,
   "metadata": {},
   "outputs": [],
   "source": [
    "sum(ios_genres['value'])"
   ]
  },
  {
   "cell_type": "markdown",
   "metadata": {},
   "source": [
    "In the App store which contains the ios apps, the highes number of apps are of the category *Games* which consists of **1872 apps out 3220**. The apps of this category approximately **58%** of all the apps in the app store"
   ]
  },
  {
   "cell_type": "code",
   "execution_count": null,
   "metadata": {},
   "outputs": [],
   "source": [
    "ios.head()"
   ]
  },
  {
   "cell_type": "code",
   "execution_count": null,
   "metadata": {},
   "outputs": [],
   "source": [
    "ios.info()"
   ]
  },
  {
   "cell_type": "markdown",
   "metadata": {},
   "source": [
    "Now, we will calculate the average number of installations that have been done for each genre in both the datasets."
   ]
  },
  {
   "cell_type": "code",
   "execution_count": null,
   "metadata": {},
   "outputs": [],
   "source": [
    "installs = gg1['Installs']"
   ]
  },
  {
   "cell_type": "code",
   "execution_count": null,
   "metadata": {},
   "outputs": [],
   "source": [
    "gg1['Installs'] = installs.str.replace(',','')"
   ]
  },
  {
   "cell_type": "code",
   "execution_count": null,
   "metadata": {
    "scrolled": false
   },
   "outputs": [],
   "source": [
    "gg1.head()"
   ]
  },
  {
   "cell_type": "code",
   "execution_count": null,
   "metadata": {},
   "outputs": [],
   "source": [
    "# Removing the special characters from the installs columns for its conversion to a numeric data type from a string data type.\n",
    "gg1['Installs'] = gg1['Installs'].str.replace('+','')"
   ]
  },
  {
   "cell_type": "code",
   "execution_count": null,
   "metadata": {},
   "outputs": [],
   "source": [
    "gg1.info()"
   ]
  },
  {
   "cell_type": "code",
   "execution_count": null,
   "metadata": {},
   "outputs": [],
   "source": [
    "gg1.head()"
   ]
  },
  {
   "cell_type": "code",
   "execution_count": null,
   "metadata": {},
   "outputs": [],
   "source": [
    "gg1['Installs'] = gg1['Installs'].astype('int')"
   ]
  },
  {
   "cell_type": "code",
   "execution_count": null,
   "metadata": {},
   "outputs": [],
   "source": [
    "gg1.info()"
   ]
  },
  {
   "cell_type": "markdown",
   "metadata": {},
   "source": [
    "The below loop will calculate the average rating for each category in the google play store dataset."
   ]
  },
  {
   "cell_type": "code",
   "execution_count": null,
   "metadata": {},
   "outputs": [],
   "source": [
    "avg_num_user = dict()\n",
    "\n",
    "for i in range(gg_category.shape[0]):\n",
    "    gen = gg_category['Category'].iloc[i]\n",
    "    sub = gg1[gg1['Category']==gen]\n",
    "    \n",
    "    tot_installs = sum(sub['Installs'])\n",
    "    \n",
    "    num_of_apps = gg_category[gg_category['Category']== gg_category['Category'].iloc[i]]['value'].iloc[0]\n",
    "    \n",
    "    avg = int(tot_installs/num_of_apps)\n",
    "    \n",
    "    avg_num_user['{}'.format(gg_category['Category'].iloc[i])]=avg"
   ]
  },
  {
   "cell_type": "code",
   "execution_count": null,
   "metadata": {},
   "outputs": [],
   "source": [
    "labels = list(avg_num_user.keys())\n",
    "values = list(avg_num_user.values())\n",
    "gg_avg_user = pd.DataFrame({'Category':labels,'Average number of installs':values})"
   ]
  },
  {
   "cell_type": "code",
   "execution_count": null,
   "metadata": {},
   "outputs": [],
   "source": [
    "gg_avg_user.sort_values(ascending=False,inplace=True,by='Average number of installs')"
   ]
  },
  {
   "cell_type": "code",
   "execution_count": null,
   "metadata": {},
   "outputs": [],
   "source": [
    "gg_avg_user"
   ]
  },
  {
   "cell_type": "markdown",
   "metadata": {},
   "source": [
    "The above dataframe shows that event though the number of apps of the category *FAMILY* is the highest, it does not have the highest number of installs in the google play store. The apps of the category *COMMUNICATION* have the highest number of installations."
   ]
  },
  {
   "cell_type": "markdown",
   "metadata": {},
   "source": [
    "The following loop will calculate the average number of installs for each genre in the app store dataset."
   ]
  },
  {
   "cell_type": "code",
   "execution_count": null,
   "metadata": {},
   "outputs": [],
   "source": [
    "ios_avg_num_installs = dict()\n",
    "\n",
    "for i in range(ios_genres.shape[0]):\n",
    "    gen = ios_genres['Category'].iloc[i]\n",
    "    \n",
    "    sub = ios[ios['prime_genre']==gen]\n",
    "    \n",
    "    tot_installs = sum(sub['rating_count_tot'])\n",
    "    \n",
    "    num_of_apps = ios_genres[ios_genres['Category']== ios_genres['Category'].iloc[i]]['value'].iloc[0]\n",
    "    \n",
    "    avg = int(tot_installs/num_of_apps)\n",
    "    \n",
    "    ios_avg_num_installs['{}'.format(ios_genres['Category'].iloc[i])]=avg"
   ]
  },
  {
   "cell_type": "code",
   "execution_count": null,
   "metadata": {},
   "outputs": [],
   "source": [
    "ios_avg_num_installs"
   ]
  },
  {
   "cell_type": "code",
   "execution_count": null,
   "metadata": {},
   "outputs": [],
   "source": [
    "x = list(ios_avg_num_installs.keys())\n",
    "y = list(ios_avg_num_installs.values())\n",
    "\n",
    "\n",
    "\n",
    "ios_avg_installs = pd.DataFrame({'Genres':x,'Average Number of Installs':y})\n",
    "ios_avg_installs.sort_values(ascending=False,by = 'Average Number of Installs',inplace=True)"
   ]
  },
  {
   "cell_type": "code",
   "execution_count": null,
   "metadata": {},
   "outputs": [],
   "source": [
    "ios_avg_installs"
   ]
  },
  {
   "cell_type": "markdown",
   "metadata": {},
   "source": [
    "In the app store, the number of apps which were highest were of the genre *Games*. However, the genre *NAVIGATION*  has the highest average number of installations."
   ]
  },
  {
   "cell_type": "markdown",
   "metadata": {},
   "source": [
    "Since the trend regarding the number of average installations in both the datasets is similar, it seems to indicate that the usage of an app of a particular genre does not depend on the number of apps available for that genre in the store."
   ]
  },
  {
   "cell_type": "markdown",
   "metadata": {},
   "source": [
    "Next, we will be analysing the apps on the basis of the average rating given to each genre in both the dataset."
   ]
  },
  {
   "cell_type": "markdown",
   "metadata": {},
   "source": [
    "The following loop will calculate the average rating given to each Category in the google play store dataset."
   ]
  },
  {
   "cell_type": "code",
   "execution_count": null,
   "metadata": {},
   "outputs": [],
   "source": [
    "avg_num_rating = dict()\n",
    "\n",
    "for i in range(gg_category.shape[0]):\n",
    "    gen = gg_category['Category'].iloc[i]\n",
    "    sub = gg1[gg1['Category']==gen]\n",
    "    \n",
    "    tot_rating = sum(sub['Rating'])\n",
    "    \n",
    "    num_of_apps = gg_category[gg_category['Category']== gg_category['Category'].iloc[i]]['value'].iloc[0]\n",
    "    \n",
    "    avg = (tot_rating/num_of_apps)\n",
    "    \n",
    "    avg_num_rating['{}'.format(gg_category['Category'].iloc[i])]=avg"
   ]
  },
  {
   "cell_type": "code",
   "execution_count": null,
   "metadata": {},
   "outputs": [],
   "source": [
    "labels = list(avg_num_rating.keys())\n",
    "values = list(avg_num_rating.values())\n",
    "gg_avg_rating = pd.DataFrame({'Category':labels,'Average Rating':values})"
   ]
  },
  {
   "cell_type": "code",
   "execution_count": null,
   "metadata": {},
   "outputs": [],
   "source": [
    "gg_avg_rating.sort_values(by='Average Rating',ascending=False,inplace=True)"
   ]
  },
  {
   "cell_type": "code",
   "execution_count": null,
   "metadata": {},
   "outputs": [],
   "source": [
    "gg_avg_rating"
   ]
  },
  {
   "cell_type": "code",
   "execution_count": null,
   "metadata": {},
   "outputs": [],
   "source": [
    "ios.head()"
   ]
  },
  {
   "cell_type": "markdown",
   "metadata": {},
   "source": [
    "The loop in the following cell will calculate the average rating of each genre in the ios dataset."
   ]
  },
  {
   "cell_type": "code",
   "execution_count": null,
   "metadata": {},
   "outputs": [],
   "source": [
    "ios_avg_num_rating = dict()\n",
    "\n",
    "for i in range(ios_genres.shape[0]):\n",
    "    gen = ios_genres['Category'].iloc[i]\n",
    "    \n",
    "    sub = ios[ios['prime_genre']==gen]\n",
    "    \n",
    "    tot_rating = sum(sub['user_rating'])\n",
    "    \n",
    "    num_of_apps = ios_genres[ios_genres['Category']== ios_genres['Category'].iloc[i]]['value'].iloc[0]\n",
    "    \n",
    "    avg = (tot_rating/num_of_apps)\n",
    "    \n",
    "    ios_avg_num_rating['{}'.format(ios_genres['Category'].iloc[i])]=avg"
   ]
  },
  {
   "cell_type": "code",
   "execution_count": null,
   "metadata": {},
   "outputs": [],
   "source": [
    "x = list(ios_avg_num_rating.keys())\n",
    "y = list(ios_avg_num_rating.values())\n",
    "\n",
    "\n",
    "\n",
    "ios_avg_rating = pd.DataFrame({'Genres':x,'Average Rating':y})\n",
    "ios_avg_rating.sort_values(ascending=False,by = 'Average Rating',inplace=True)"
   ]
  },
  {
   "cell_type": "code",
   "execution_count": null,
   "metadata": {},
   "outputs": [],
   "source": [
    "ios_avg_installs"
   ]
  },
  {
   "cell_type": "markdown",
   "metadata": {},
   "source": [
    "In both the datasets, lifestyle-based apps i.e. the *EVENTS* category in the google play store dataset and the *Catalog* genre in the app store dataset have been given the highest rating. This seems to indicate that although the number of installations for the *COMMUNICATION* category apps in the google play store dataset and the *Navigation* category apps in the app store dataset have been high but the users may not have been satisfied with the quality of the apps available in those categories, resulting in those not apps not receiving the rating which would be commensurate with the average number of installations observed in these apps.  \n",
    "  \n",
    "Another possible reason for the *EVENTS* and the *Catalog* category apps not receiving the highest average rating in their respective datasets is that the users who rated those apps may be very different from the users who rated the apps which have received the highest rating. Howver, this line of reasoning cannot be verified because of lack of appropriate data."
   ]
  },
  {
   "cell_type": "code",
   "execution_count": null,
   "metadata": {},
   "outputs": [],
   "source": []
  }
 ],
 "metadata": {
  "kernelspec": {
   "display_name": "Python 3",
   "language": "python",
   "name": "python3"
  },
  "language_info": {
   "codemirror_mode": {
    "name": "ipython",
    "version": 3
   },
   "file_extension": ".py",
   "mimetype": "text/x-python",
   "name": "python",
   "nbconvert_exporter": "python",
   "pygments_lexer": "ipython3",
   "version": "3.7.4"
  }
 },
 "nbformat": 4,
 "nbformat_minor": 2
}
